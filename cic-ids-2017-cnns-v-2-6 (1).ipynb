{
 "metadata": {
  "kernelspec": {
   "language": "python",
   "display_name": "Python 3",
   "name": "python3"
  },
  "language_info": {
   "name": "python",
   "version": "3.10.13",
   "mimetype": "text/x-python",
   "codemirror_mode": {
    "name": "ipython",
    "version": 3
   },
   "pygments_lexer": "ipython3",
   "nbconvert_exporter": "python",
   "file_extension": ".py"
  },
  "kaggle": {
   "accelerator": "none",
   "dataSources": [
    {
     "sourceId": 4059877,
     "sourceType": "datasetVersion",
     "datasetId": 2395943
    }
   ],
   "isInternetEnabled": true,
   "language": "python",
   "sourceType": "notebook",
   "isGpuEnabled": false
  }
 },
 "nbformat_minor": 4,
 "nbformat": 4,
 "cells": [
  {
   "cell_type": "code",
   "source": [
    "# lineer cebir işlemleri için numpy kütüphanesini içe aktarır.\n",
    "import numpy as np\n",
    "\n",
    "# veri işleme ve analiz için pandas kütüphanesini içe aktarır.\n",
    "import pandas as pd\n",
    "\n",
    "# dosya ve dizin işlemleri için os kütüphanesini içe aktarır.\n",
    "import os\n",
    "\n",
    "# veri görselleştirme için matplotlib.pyplot kütüphanesini içe aktarır.\n",
    "import matplotlib.pyplot as plt\n",
    "\n",
    "# istatistiksel veri görselleştirme için seaborn kütüphanesini içe aktarır.\n",
    "import seaborn as sns\n",
    "\n",
    "# kategorik hedef değişkenleri sayısal etiketlere dönüştürmek için LabelEncoder sınıfını sklearn.preprocessing modülünden içe aktarır.\n",
    "from sklearn.preprocessing import LabelEncoder\n",
    "\n",
    "# veriyi eğitim ve test kümelerine ayırmak için train_test_split fonksiyonunu\n",
    "from sklearn.model_selection import train_test_split\n",
    "\n",
    "# dengesiz sınıf dağılımına sahip veriler için SMOTE (Synthetic Minority Oversampling Technique) tekniğini kullanmak için SMOTE sınıfını imblearn.over_sampling modülünden içe aktarır.\n",
    "from imblearn.over_sampling import SMOTE\n",
    "\n",
    "# veri ölçeklendirme için QuantileTransformer sınıfını sklearn.preprocessing modülünden içe aktarır.\n",
    "from sklearn.preprocessing import QuantileTransformer\n",
    "\n",
    "# model performansını değerlendirmek için çeşitli metrikleri (accuracy_score, precision_score, recall_score, f1_score) sklearn.metrics modülünden içe aktarır.\n",
    "from sklearn.metrics import accuracy_score, precision_score, recall_score, f1_score"
   ],
   "metadata": {
    "execution": {
     "iopub.status.busy": "2024-04-14T13:52:37.555592Z",
     "iopub.execute_input": "2024-04-14T13:52:37.556235Z",
     "iopub.status.idle": "2024-04-14T13:52:40.070975Z",
     "shell.execute_reply.started": "2024-04-14T13:52:37.556186Z",
     "shell.execute_reply": "2024-04-14T13:52:40.070005Z"
    },
    "trusted": true,
    "ExecuteTime": {
     "end_time": "2024-06-04T01:07:05.492079Z",
     "start_time": "2024-06-04T01:07:05.486565Z"
    }
   },
   "outputs": [],
   "execution_count": 9
  },
  {
   "cell_type": "code",
   "source": [
    "# CNN modelini oluşturmak ve eğitmek için gerekli kütüphaneleri içe aktarma.\n",
    "\n",
    "# TensorFlow modellerini oluşturmak ve çalıştırmak için ana kütüphane.\n",
    "import tensorflow as tf\n",
    "from tensorflow import keras\n",
    "\n",
    "# TensorFlow üzerine inşa edilmiş ve sinir ağlarını oluşturmak ve eğitmek için daha basit bir arayüz sağlayan üst düzey bir API.\n",
    "from keras import layers, Sequential\n",
    "\n",
    "# Bu bölüm, CNN mimarisini oluşturmak için yapı taşlarını içe aktarır:\n",
    "from keras.layers import Input, Dense, Conv2D, MaxPooling2D, Flatten\n",
    "\n",
    "from keras.initializers import GlorotUniform, HeUniform, HeNormal\n",
    "# Model: Çoklu giriş ve çıkışa sahip karmaşık modelleri tanımlamak için daha esnek bir yol.\n",
    "# Input: Modelin giriş katmanını tanımlar.\n",
    "# Dense: Sınıflandırma için tamamen bağlı katmanlar oluşturur.\n",
    "# Conv2D: Görüntü gibi 2D verilerden özellik çıkarmak için konvolüsyonel filtreler uygular.\n",
    "# MaxPooling2D: Özellik haritalarının boyutunu azaltmak için maksimum havuzlama gerçekleştirir.\n",
    "# Flatten: 2D özellik haritalarını yoğun katmanlara beslemek için 1D vektör haline getirir.\n",
    "# GlorotUniform, HeUniform ve HeNormal: Katmanların ağırlıkları için farklı başlatma yöntemleri.\n",
    "\n",
    "# Bu kısım, eğitim sürecini özelleştirmek için işlevleri içe aktarır:\n",
    "from keras.callbacks import EarlyStopping, ReduceLROnPlateau\n",
    "# EarlyStopping: Doğrulama kaybını izler ve belirli sayıda epoch boyunca iyileşmezse eğitimi durdurur, aşırı uyumu önler.\n",
    "# ReduceLROnPlateau: Doğrulama kaybı duraklarsa öğrenme oranını azaltır, potansiyel olarak modelin yerel minimumlardan kaçmasına ve daha iyi çözümler bulmasına yardımcı olur."
   ],
   "metadata": {
    "execution": {
     "iopub.status.busy": "2024-04-14T13:52:40.072716Z",
     "iopub.execute_input": "2024-04-14T13:52:40.073120Z",
     "iopub.status.idle": "2024-04-14T13:52:50.994872Z",
     "shell.execute_reply.started": "2024-04-14T13:52:40.073095Z",
     "shell.execute_reply": "2024-04-14T13:52:50.993848Z"
    },
    "trusted": true,
    "ExecuteTime": {
     "end_time": "2024-06-04T01:07:05.569570Z",
     "start_time": "2024-06-04T01:07:05.554013Z"
    }
   },
   "outputs": [],
   "execution_count": 10
  },
  {
   "cell_type": "code",
   "source": [
    "# tab2img adlı bir kütüphaneyi indirir. Bu kütüphane, tablo verilerini CNN'lerde kullanılabilecek görüntülere dönüştürmek için kullanılır.\n",
    "\n",
    "from tab2img.converter import Tab2Img\n",
    "# pip install tab2img -q komutunu çalıştırmak, kütüphanenin sessizce kurulmasını sağlar. Bu, indirme ilerlemesi veya diğer ayrıntıları dizüstü bilgisayardan çıktıda görmeyeceğiniz anlamına gelir.\n",
    "\n",
    "# tab2img.converter.Tab2Img sınıfını kullanarak tablo verilerini görüntülere dönüştürebilirsiniz. Bu sınıf, verilerinizi CNN modellerinde kullanmak üzere uygun bir formata dönüştürmenizi sağlar."
   ],
   "metadata": {
    "execution": {
     "iopub.status.busy": "2024-04-14T13:52:50.996120Z",
     "iopub.execute_input": "2024-04-14T13:52:50.996695Z",
     "iopub.status.idle": "2024-04-14T13:53:04.604847Z",
     "shell.execute_reply.started": "2024-04-14T13:52:50.996667Z",
     "shell.execute_reply": "2024-04-14T13:53:04.603517Z"
    },
    "trusted": true,
    "ExecuteTime": {
     "end_time": "2024-06-04T01:07:05.615380Z",
     "start_time": "2024-06-04T01:07:05.606526Z"
    }
   },
   "outputs": [],
   "execution_count": 11
  },
  {
   "cell_type": "code",
   "source": [
    "# makine öğrenimi deneylerinde tekrarlanabilirliği sağlamak için çeşitli kütüphanelerin rastgele sayı üreteçlerinin başlangıç değerlerini (seed) ayarlar.\n",
    "\n",
    "# pi sayısının yaklaşık değeri olan 314159'u seed_pi adlı sabit bir değişkene atar. Bu değer, sonraki adımlarda rastgelelik için başlangıç değeri olarak kullanılacaktır.\n",
    "seed_pi = 314159\n",
    "\n",
    "# Bu satır, NumPy kütüphanesinin rastgele sayı üretecinin başlangıç değerini ayarlar. NumPy, bilimsel hesaplama için temel bir kütüphanedir ve genellikle veri işleme için kullanılır. Başlangıç değerini ayarlayarak, kodunuzu her çalıştırdığınızda aynı rastgele sayıların üretilmesini sağlarsınız, bu da tutarlı sonuçlara yol açar.\n",
    "np.random.seed(seed_pi)\n",
    "\n",
    "# Benzer şekilde, bu satır TensorFlow'un rastgele sayı üretecinin başlangıç değerini ayarlar. TensorFlow, makine öğrenimi modelleri oluşturmak ve eğitmek için popüler bir çerçevedir. Başlangıç değerini ayarlayarak, modelin eğitim sürecinin farklı çalıştırmalar arasında tekrarlanabilir ve tutarlı olmasını sağlarsınız.\n",
    "tf.random.set_seed(seed_pi)"
   ],
   "metadata": {
    "execution": {
     "iopub.status.busy": "2024-04-14T13:53:04.607577Z",
     "iopub.execute_input": "2024-04-14T13:53:04.607892Z",
     "iopub.status.idle": "2024-04-14T13:53:04.615643Z",
     "shell.execute_reply.started": "2024-04-14T13:53:04.607863Z",
     "shell.execute_reply": "2024-04-14T13:53:04.614413Z"
    },
    "trusted": true,
    "ExecuteTime": {
     "end_time": "2024-06-04T01:07:05.647390Z",
     "start_time": "2024-06-04T01:07:05.633355Z"
    }
   },
   "outputs": [],
   "execution_count": 12
  },
  {
   "cell_type": "code",
   "source": [
    "# Datasetleri dataframelerin içine gömme.\n",
    "\n",
    "df_data_1 = pd.read_parquet('data/Benign-Monday-no-metadata.parquet')\n",
    "df_data_2 = pd.read_parquet('data/Botnet-Friday-no-metadata.parquet')\n",
    "df_data_3 = pd.read_parquet('data/Bruteforce-Tuesday-no-metadata.parquet')\n",
    "df_data_4 = pd.read_parquet('data/DDoS-Friday-no-metadata.parquet')\n",
    "df_data_5 = pd.read_parquet('data/DoS-Wednesday-no-metadata.parquet')\n",
    "df_data_6 = pd.read_parquet('data/Infiltration-Thursday-no-metadata.parquet')\n",
    "df_data_7 = pd.read_parquet('data/Portscan-Friday-no-metadata.parquet')\n",
    "df_data_8 = pd.read_parquet('data/WebAttacks-Thursday-no-metadata.parquet')\n",
    "df_data_1.head()"
   ],
   "metadata": {
    "execution": {
     "iopub.status.busy": "2024-04-14T13:53:04.636610Z",
     "iopub.execute_input": "2024-04-14T13:53:04.636893Z",
     "iopub.status.idle": "2024-04-14T13:53:08.430258Z",
     "shell.execute_reply.started": "2024-04-14T13:53:04.636870Z",
     "shell.execute_reply": "2024-04-14T13:53:08.429289Z"
    },
    "trusted": true,
    "ExecuteTime": {
     "end_time": "2024-06-04T01:07:06.365062Z",
     "start_time": "2024-06-04T01:07:05.655517Z"
    }
   },
   "outputs": [
    {
     "data": {
      "text/plain": [
       "   Protocol  Flow Duration  Total Fwd Packets  Total Backward Packets  \\\n",
       "0         6              4                  2                       0   \n",
       "1         6              1                  2                       0   \n",
       "2         6              3                  2                       0   \n",
       "3         6              1                  2                       0   \n",
       "4         6            609                  7                       4   \n",
       "\n",
       "   Fwd Packets Length Total  Bwd Packets Length Total  Fwd Packet Length Max  \\\n",
       "0                        12                         0                      6   \n",
       "1                        12                         0                      6   \n",
       "2                        12                         0                      6   \n",
       "3                        12                         0                      6   \n",
       "4                       484                       414                    233   \n",
       "\n",
       "   Fwd Packet Length Min  Fwd Packet Length Mean  Fwd Packet Length Std  ...  \\\n",
       "0                      6                 6.00000               0.000000  ...   \n",
       "1                      6                 6.00000               0.000000  ...   \n",
       "2                      6                 6.00000               0.000000  ...   \n",
       "3                      6                 6.00000               0.000000  ...   \n",
       "4                      0                69.14286             111.967896  ...   \n",
       "\n",
       "   Fwd Seg Size Min  Active Mean  Active Std  Active Max  Active Min  \\\n",
       "0                20          0.0         0.0           0           0   \n",
       "1                20          0.0         0.0           0           0   \n",
       "2                20          0.0         0.0           0           0   \n",
       "3                20          0.0         0.0           0           0   \n",
       "4                20          0.0         0.0           0           0   \n",
       "\n",
       "   Idle Mean  Idle Std  Idle Max  Idle Min   Label  \n",
       "0        0.0       0.0         0         0  Benign  \n",
       "1        0.0       0.0         0         0  Benign  \n",
       "2        0.0       0.0         0         0  Benign  \n",
       "3        0.0       0.0         0         0  Benign  \n",
       "4        0.0       0.0         0         0  Benign  \n",
       "\n",
       "[5 rows x 78 columns]"
      ],
      "text/html": [
       "<div>\n",
       "<style scoped>\n",
       "    .dataframe tbody tr th:only-of-type {\n",
       "        vertical-align: middle;\n",
       "    }\n",
       "\n",
       "    .dataframe tbody tr th {\n",
       "        vertical-align: top;\n",
       "    }\n",
       "\n",
       "    .dataframe thead th {\n",
       "        text-align: right;\n",
       "    }\n",
       "</style>\n",
       "<table border=\"1\" class=\"dataframe\">\n",
       "  <thead>\n",
       "    <tr style=\"text-align: right;\">\n",
       "      <th></th>\n",
       "      <th>Protocol</th>\n",
       "      <th>Flow Duration</th>\n",
       "      <th>Total Fwd Packets</th>\n",
       "      <th>Total Backward Packets</th>\n",
       "      <th>Fwd Packets Length Total</th>\n",
       "      <th>Bwd Packets Length Total</th>\n",
       "      <th>Fwd Packet Length Max</th>\n",
       "      <th>Fwd Packet Length Min</th>\n",
       "      <th>Fwd Packet Length Mean</th>\n",
       "      <th>Fwd Packet Length Std</th>\n",
       "      <th>...</th>\n",
       "      <th>Fwd Seg Size Min</th>\n",
       "      <th>Active Mean</th>\n",
       "      <th>Active Std</th>\n",
       "      <th>Active Max</th>\n",
       "      <th>Active Min</th>\n",
       "      <th>Idle Mean</th>\n",
       "      <th>Idle Std</th>\n",
       "      <th>Idle Max</th>\n",
       "      <th>Idle Min</th>\n",
       "      <th>Label</th>\n",
       "    </tr>\n",
       "  </thead>\n",
       "  <tbody>\n",
       "    <tr>\n",
       "      <th>0</th>\n",
       "      <td>6</td>\n",
       "      <td>4</td>\n",
       "      <td>2</td>\n",
       "      <td>0</td>\n",
       "      <td>12</td>\n",
       "      <td>0</td>\n",
       "      <td>6</td>\n",
       "      <td>6</td>\n",
       "      <td>6.00000</td>\n",
       "      <td>0.000000</td>\n",
       "      <td>...</td>\n",
       "      <td>20</td>\n",
       "      <td>0.0</td>\n",
       "      <td>0.0</td>\n",
       "      <td>0</td>\n",
       "      <td>0</td>\n",
       "      <td>0.0</td>\n",
       "      <td>0.0</td>\n",
       "      <td>0</td>\n",
       "      <td>0</td>\n",
       "      <td>Benign</td>\n",
       "    </tr>\n",
       "    <tr>\n",
       "      <th>1</th>\n",
       "      <td>6</td>\n",
       "      <td>1</td>\n",
       "      <td>2</td>\n",
       "      <td>0</td>\n",
       "      <td>12</td>\n",
       "      <td>0</td>\n",
       "      <td>6</td>\n",
       "      <td>6</td>\n",
       "      <td>6.00000</td>\n",
       "      <td>0.000000</td>\n",
       "      <td>...</td>\n",
       "      <td>20</td>\n",
       "      <td>0.0</td>\n",
       "      <td>0.0</td>\n",
       "      <td>0</td>\n",
       "      <td>0</td>\n",
       "      <td>0.0</td>\n",
       "      <td>0.0</td>\n",
       "      <td>0</td>\n",
       "      <td>0</td>\n",
       "      <td>Benign</td>\n",
       "    </tr>\n",
       "    <tr>\n",
       "      <th>2</th>\n",
       "      <td>6</td>\n",
       "      <td>3</td>\n",
       "      <td>2</td>\n",
       "      <td>0</td>\n",
       "      <td>12</td>\n",
       "      <td>0</td>\n",
       "      <td>6</td>\n",
       "      <td>6</td>\n",
       "      <td>6.00000</td>\n",
       "      <td>0.000000</td>\n",
       "      <td>...</td>\n",
       "      <td>20</td>\n",
       "      <td>0.0</td>\n",
       "      <td>0.0</td>\n",
       "      <td>0</td>\n",
       "      <td>0</td>\n",
       "      <td>0.0</td>\n",
       "      <td>0.0</td>\n",
       "      <td>0</td>\n",
       "      <td>0</td>\n",
       "      <td>Benign</td>\n",
       "    </tr>\n",
       "    <tr>\n",
       "      <th>3</th>\n",
       "      <td>6</td>\n",
       "      <td>1</td>\n",
       "      <td>2</td>\n",
       "      <td>0</td>\n",
       "      <td>12</td>\n",
       "      <td>0</td>\n",
       "      <td>6</td>\n",
       "      <td>6</td>\n",
       "      <td>6.00000</td>\n",
       "      <td>0.000000</td>\n",
       "      <td>...</td>\n",
       "      <td>20</td>\n",
       "      <td>0.0</td>\n",
       "      <td>0.0</td>\n",
       "      <td>0</td>\n",
       "      <td>0</td>\n",
       "      <td>0.0</td>\n",
       "      <td>0.0</td>\n",
       "      <td>0</td>\n",
       "      <td>0</td>\n",
       "      <td>Benign</td>\n",
       "    </tr>\n",
       "    <tr>\n",
       "      <th>4</th>\n",
       "      <td>6</td>\n",
       "      <td>609</td>\n",
       "      <td>7</td>\n",
       "      <td>4</td>\n",
       "      <td>484</td>\n",
       "      <td>414</td>\n",
       "      <td>233</td>\n",
       "      <td>0</td>\n",
       "      <td>69.14286</td>\n",
       "      <td>111.967896</td>\n",
       "      <td>...</td>\n",
       "      <td>20</td>\n",
       "      <td>0.0</td>\n",
       "      <td>0.0</td>\n",
       "      <td>0</td>\n",
       "      <td>0</td>\n",
       "      <td>0.0</td>\n",
       "      <td>0.0</td>\n",
       "      <td>0</td>\n",
       "      <td>0</td>\n",
       "      <td>Benign</td>\n",
       "    </tr>\n",
       "  </tbody>\n",
       "</table>\n",
       "<p>5 rows × 78 columns</p>\n",
       "</div>"
      ]
     },
     "execution_count": 13,
     "metadata": {},
     "output_type": "execute_result"
    }
   ],
   "execution_count": 13
  },
  {
   "cell_type": "code",
   "source": [
    "# df_data_1, df_data_2, ..., df_data_8 adlı birden fazla veri çerçevesini tek bir veri çerçevesinde (df_data) birleştirir.\n",
    "\n",
    "df_data = pd.concat([df_data_1, df_data_2, df_data_3, df_data_4, \n",
    "                     df_data_5, df_data_6, df_data_7, df_data_8], axis=0, ignore_index=True)"
   ],
   "metadata": {
    "execution": {
     "iopub.status.busy": "2024-04-14T13:53:08.431606Z",
     "iopub.execute_input": "2024-04-14T13:53:08.431940Z",
     "iopub.status.idle": "2024-04-14T13:53:08.716976Z",
     "shell.execute_reply.started": "2024-04-14T13:53:08.431911Z",
     "shell.execute_reply": "2024-04-14T13:53:08.716084Z"
    },
    "trusted": true,
    "ExecuteTime": {
     "end_time": "2024-06-04T01:07:06.675632Z",
     "start_time": "2024-06-04T01:07:06.367117Z"
    }
   },
   "outputs": [],
   "execution_count": 14
  },
  {
   "cell_type": "code",
   "source": [
    "# Data ön işlemesi\n",
    "\n",
    "# df_data veri çerçevesinde veri ön işleme işlemleri gerçekleştirir:\n",
    "null_counts = df_data.isnull().sum()\n",
    "\n",
    "# df_data.isnull().sum() kullanarak her sütundaki boş değerlerin sayısını sayar. df_data.dropna(inplace=True) kullanarak boş değer içeren tüm satırları düşürür.\n",
    "print(f\"{null_counts.sum()} veri setinde boş girişler var!\\n\")\n",
    "\n",
    "# df_data.duplicated().sum() kullanarak yinelenen satırların sayısını sayar. df_data.drop_duplicates(inplace=True) kullanarak tüm yinelenen satırları kaldırır.\n",
    "df_data.dropna(inplace=True)\n",
    "\n",
    "# Satırları kaldırdıktan sonra, orijinal endeksler sırasız hale gelebilir. endeksleri df_data.reset_index(drop=True, inplace=True) kullanarak sürekli bir sıraya sıfırlar.\n",
    "duplicate_count = df_data.duplicated().sum()\n",
    "\n",
    "# tekrar eden verileri yazdırır\n",
    "print(f\"{duplicate_count} veri setinde tekrar eden girişler var!\\n\")\n",
    "\n",
    "# tekrarları siler\n",
    "df_data.drop_duplicates(inplace=True)  # bunun yerine df_data = df_data.drop_duplicates() kullanılabilir\n",
    "\n",
    "# mesaj yazdırır\n",
    "print(f\"Kopyalar Kaldırıldı!\\n\")\n",
    "\n",
    "# işaretleri resetler\n",
    "df_data.reset_index(drop=True, inplace=True)\n",
    "\n",
    "# Kategorik sütunlar için veri kümesini inceler\n",
    "print(\"Kategori kolonları:\",df_data.select_dtypes(include=['object']).columns.tolist(),'\\n')\n",
    "\n",
    "# İlk 5 satırı yazdır\n",
    "df_data.head()"
   ],
   "metadata": {
    "execution": {
     "iopub.status.busy": "2024-04-14T13:53:08.718314Z",
     "iopub.execute_input": "2024-04-14T13:53:08.718779Z",
     "iopub.status.idle": "2024-04-14T13:53:28.911700Z",
     "shell.execute_reply.started": "2024-04-14T13:53:08.718745Z",
     "shell.execute_reply": "2024-04-14T13:53:28.910663Z"
    },
    "trusted": true,
    "ExecuteTime": {
     "end_time": "2024-06-04T01:07:30.155207Z",
     "start_time": "2024-06-04T01:07:06.692507Z"
    }
   },
   "outputs": [
    {
     "name": "stdout",
     "output_type": "stream",
     "text": [
      "0 veri setinde boş girişler var!\n",
      "\n",
      "82004 veri setinde tekrar eden girişler var!\n",
      "\n",
      "Kopyalar Kaldırıldı!\n",
      "\n",
      "Kategori kolonları: ['Label'] \n",
      "\n"
     ]
    },
    {
     "data": {
      "text/plain": [
       "   Protocol  Flow Duration  Total Fwd Packets  Total Backward Packets  \\\n",
       "0         6              4                  2                       0   \n",
       "1         6              1                  2                       0   \n",
       "2         6              3                  2                       0   \n",
       "3         6              1                  2                       0   \n",
       "4         6            609                  7                       4   \n",
       "\n",
       "   Fwd Packets Length Total  Bwd Packets Length Total  Fwd Packet Length Max  \\\n",
       "0                        12                         0                      6   \n",
       "1                        12                         0                      6   \n",
       "2                        12                         0                      6   \n",
       "3                        12                         0                      6   \n",
       "4                       484                       414                    233   \n",
       "\n",
       "   Fwd Packet Length Min  Fwd Packet Length Mean  Fwd Packet Length Std  ...  \\\n",
       "0                      6                 6.00000               0.000000  ...   \n",
       "1                      6                 6.00000               0.000000  ...   \n",
       "2                      6                 6.00000               0.000000  ...   \n",
       "3                      6                 6.00000               0.000000  ...   \n",
       "4                      0                69.14286             111.967896  ...   \n",
       "\n",
       "   Fwd Seg Size Min  Active Mean  Active Std  Active Max  Active Min  \\\n",
       "0                20          0.0         0.0           0           0   \n",
       "1                20          0.0         0.0           0           0   \n",
       "2                20          0.0         0.0           0           0   \n",
       "3                20          0.0         0.0           0           0   \n",
       "4                20          0.0         0.0           0           0   \n",
       "\n",
       "   Idle Mean  Idle Std  Idle Max  Idle Min   Label  \n",
       "0        0.0       0.0         0         0  Benign  \n",
       "1        0.0       0.0         0         0  Benign  \n",
       "2        0.0       0.0         0         0  Benign  \n",
       "3        0.0       0.0         0         0  Benign  \n",
       "4        0.0       0.0         0         0  Benign  \n",
       "\n",
       "[5 rows x 78 columns]"
      ],
      "text/html": [
       "<div>\n",
       "<style scoped>\n",
       "    .dataframe tbody tr th:only-of-type {\n",
       "        vertical-align: middle;\n",
       "    }\n",
       "\n",
       "    .dataframe tbody tr th {\n",
       "        vertical-align: top;\n",
       "    }\n",
       "\n",
       "    .dataframe thead th {\n",
       "        text-align: right;\n",
       "    }\n",
       "</style>\n",
       "<table border=\"1\" class=\"dataframe\">\n",
       "  <thead>\n",
       "    <tr style=\"text-align: right;\">\n",
       "      <th></th>\n",
       "      <th>Protocol</th>\n",
       "      <th>Flow Duration</th>\n",
       "      <th>Total Fwd Packets</th>\n",
       "      <th>Total Backward Packets</th>\n",
       "      <th>Fwd Packets Length Total</th>\n",
       "      <th>Bwd Packets Length Total</th>\n",
       "      <th>Fwd Packet Length Max</th>\n",
       "      <th>Fwd Packet Length Min</th>\n",
       "      <th>Fwd Packet Length Mean</th>\n",
       "      <th>Fwd Packet Length Std</th>\n",
       "      <th>...</th>\n",
       "      <th>Fwd Seg Size Min</th>\n",
       "      <th>Active Mean</th>\n",
       "      <th>Active Std</th>\n",
       "      <th>Active Max</th>\n",
       "      <th>Active Min</th>\n",
       "      <th>Idle Mean</th>\n",
       "      <th>Idle Std</th>\n",
       "      <th>Idle Max</th>\n",
       "      <th>Idle Min</th>\n",
       "      <th>Label</th>\n",
       "    </tr>\n",
       "  </thead>\n",
       "  <tbody>\n",
       "    <tr>\n",
       "      <th>0</th>\n",
       "      <td>6</td>\n",
       "      <td>4</td>\n",
       "      <td>2</td>\n",
       "      <td>0</td>\n",
       "      <td>12</td>\n",
       "      <td>0</td>\n",
       "      <td>6</td>\n",
       "      <td>6</td>\n",
       "      <td>6.00000</td>\n",
       "      <td>0.000000</td>\n",
       "      <td>...</td>\n",
       "      <td>20</td>\n",
       "      <td>0.0</td>\n",
       "      <td>0.0</td>\n",
       "      <td>0</td>\n",
       "      <td>0</td>\n",
       "      <td>0.0</td>\n",
       "      <td>0.0</td>\n",
       "      <td>0</td>\n",
       "      <td>0</td>\n",
       "      <td>Benign</td>\n",
       "    </tr>\n",
       "    <tr>\n",
       "      <th>1</th>\n",
       "      <td>6</td>\n",
       "      <td>1</td>\n",
       "      <td>2</td>\n",
       "      <td>0</td>\n",
       "      <td>12</td>\n",
       "      <td>0</td>\n",
       "      <td>6</td>\n",
       "      <td>6</td>\n",
       "      <td>6.00000</td>\n",
       "      <td>0.000000</td>\n",
       "      <td>...</td>\n",
       "      <td>20</td>\n",
       "      <td>0.0</td>\n",
       "      <td>0.0</td>\n",
       "      <td>0</td>\n",
       "      <td>0</td>\n",
       "      <td>0.0</td>\n",
       "      <td>0.0</td>\n",
       "      <td>0</td>\n",
       "      <td>0</td>\n",
       "      <td>Benign</td>\n",
       "    </tr>\n",
       "    <tr>\n",
       "      <th>2</th>\n",
       "      <td>6</td>\n",
       "      <td>3</td>\n",
       "      <td>2</td>\n",
       "      <td>0</td>\n",
       "      <td>12</td>\n",
       "      <td>0</td>\n",
       "      <td>6</td>\n",
       "      <td>6</td>\n",
       "      <td>6.00000</td>\n",
       "      <td>0.000000</td>\n",
       "      <td>...</td>\n",
       "      <td>20</td>\n",
       "      <td>0.0</td>\n",
       "      <td>0.0</td>\n",
       "      <td>0</td>\n",
       "      <td>0</td>\n",
       "      <td>0.0</td>\n",
       "      <td>0.0</td>\n",
       "      <td>0</td>\n",
       "      <td>0</td>\n",
       "      <td>Benign</td>\n",
       "    </tr>\n",
       "    <tr>\n",
       "      <th>3</th>\n",
       "      <td>6</td>\n",
       "      <td>1</td>\n",
       "      <td>2</td>\n",
       "      <td>0</td>\n",
       "      <td>12</td>\n",
       "      <td>0</td>\n",
       "      <td>6</td>\n",
       "      <td>6</td>\n",
       "      <td>6.00000</td>\n",
       "      <td>0.000000</td>\n",
       "      <td>...</td>\n",
       "      <td>20</td>\n",
       "      <td>0.0</td>\n",
       "      <td>0.0</td>\n",
       "      <td>0</td>\n",
       "      <td>0</td>\n",
       "      <td>0.0</td>\n",
       "      <td>0.0</td>\n",
       "      <td>0</td>\n",
       "      <td>0</td>\n",
       "      <td>Benign</td>\n",
       "    </tr>\n",
       "    <tr>\n",
       "      <th>4</th>\n",
       "      <td>6</td>\n",
       "      <td>609</td>\n",
       "      <td>7</td>\n",
       "      <td>4</td>\n",
       "      <td>484</td>\n",
       "      <td>414</td>\n",
       "      <td>233</td>\n",
       "      <td>0</td>\n",
       "      <td>69.14286</td>\n",
       "      <td>111.967896</td>\n",
       "      <td>...</td>\n",
       "      <td>20</td>\n",
       "      <td>0.0</td>\n",
       "      <td>0.0</td>\n",
       "      <td>0</td>\n",
       "      <td>0</td>\n",
       "      <td>0.0</td>\n",
       "      <td>0.0</td>\n",
       "      <td>0</td>\n",
       "      <td>0</td>\n",
       "      <td>Benign</td>\n",
       "    </tr>\n",
       "  </tbody>\n",
       "</table>\n",
       "<p>5 rows × 78 columns</p>\n",
       "</div>"
      ]
     },
     "execution_count": 15,
     "metadata": {},
     "output_type": "execute_result"
    }
   ],
   "execution_count": 15
  },
  {
   "cell_type": "code",
   "source": [
    "# 1.2.2 - Hedef Özelliğin İncelenmesi\n",
    "\n",
    "# veri çerçevesinin satır ve sütun sayısını yazdırır. Bu, veri çerçevesinin boyutunu ve genel yapısını anlamaya yardımcı olur.\n",
    "print('Dataframe Şekli: ',df_data.shape,'\\n')\n",
    "print('Hedef Özellik İnceleme - y:\\n')\n",
    "\n",
    "# \"Label\" adlı hedef özelliğinin değerlerinin sıklığını sayar ve yazdırır. Bu, hangi değerlerin daha yaygın olduğunu ve hedef değişkenin dağılımını görselleştirmeye yardımcı olur.\n",
    "df_data.Label.value_counts()"
   ],
   "metadata": {
    "execution": {
     "iopub.status.busy": "2024-04-14T13:53:28.912973Z",
     "iopub.execute_input": "2024-04-14T13:53:28.913252Z",
     "iopub.status.idle": "2024-04-14T13:53:29.247067Z",
     "shell.execute_reply.started": "2024-04-14T13:53:28.913229Z",
     "shell.execute_reply": "2024-04-14T13:53:29.245905Z"
    },
    "trusted": true,
    "ExecuteTime": {
     "end_time": "2024-06-04T01:07:30.294591Z",
     "start_time": "2024-06-04T01:07:30.191645Z"
    }
   },
   "outputs": [
    {
     "name": "stdout",
     "output_type": "stream",
     "text": [
      "Dataframe Şekli:  (2231806, 78) \n",
      "\n",
      "Hedef Özellik İnceleme - y:\n",
      "\n"
     ]
    },
    {
     "data": {
      "text/plain": [
       "Label\n",
       "Benign                        1895314\n",
       "DoS Hulk                       172846\n",
       "DDoS                           128014\n",
       "DoS GoldenEye                   10286\n",
       "FTP-Patator                      5931\n",
       "DoS slowloris                    5385\n",
       "DoS Slowhttptest                 5228\n",
       "SSH-Patator                      3219\n",
       "PortScan                         1956\n",
       "Web Attack � Brute Force         1470\n",
       "Bot                              1437\n",
       "Web Attack � XSS                  652\n",
       "Infiltration                       36\n",
       "Web Attack � Sql Injection         21\n",
       "Heartbleed                         11\n",
       "Name: count, dtype: int64"
      ]
     },
     "execution_count": 16,
     "metadata": {},
     "output_type": "execute_result"
    }
   ],
   "execution_count": 16
  },
  {
   "cell_type": "code",
   "source": [
    "# df_data veri çerçevesini ikili sınıflandırma için hazırlar:\n",
    "\n",
    "# df_data.copy() ile veri çerçevesinin bir kopyası oluşturulur.\n",
    "X = df_data.copy()\n",
    "\n",
    "# kopyadan 'Label' sütununu (hedef sütunu) kaldırır.\n",
    "X = X.drop('Label', axis=1)\n",
    "\n",
    "# 'Label' sütununun kopyası alınır.\n",
    "y = df_data['Label'].copy()\n",
    "\n",
    "# 'Benign' etiketli veriler 0 ile, geri kalanlar ise 1 ile eşleştirilir. varsayılan olarak 1 olarak doldurulur.\n",
    "y = y.map({'Benign': 0}).fillna(1)"
   ],
   "metadata": {
    "execution": {
     "iopub.status.busy": "2024-04-14T13:53:29.252057Z",
     "iopub.execute_input": "2024-04-14T13:53:29.252725Z",
     "iopub.status.idle": "2024-04-14T13:53:29.838290Z",
     "shell.execute_reply.started": "2024-04-14T13:53:29.252686Z",
     "shell.execute_reply": "2024-04-14T13:53:29.837198Z"
    },
    "trusted": true,
    "ExecuteTime": {
     "end_time": "2024-06-04T01:07:30.850995Z",
     "start_time": "2024-06-04T01:07:30.296815Z"
    }
   },
   "outputs": [],
   "execution_count": 17
  },
  {
   "cell_type": "code",
   "source": [
    "# 8 inç genişliğinde ve 6 inç yüksekliğinde bir grafik oluşturur.\n",
    "plt.figure(figsize=(8, 6))\n",
    "\n",
    "# y değişkeninin değerlerini sayar ve yeşil tonlarında bir histogram çizer.\n",
    "sns.countplot(x=y, palette='Blues')\n",
    "\n",
    "# grafiğe başlık ekler.\n",
    "plt.title('İkili Hedef Değişkeninin Dağılımı')\n",
    "\n",
    "# eksenlerin isimlerini belirler.\n",
    "plt.xlabel('Hedef Sınıf')\n",
    "plt.ylabel('Sayım')\n",
    "\n",
    "# x ekseninin etiketlerini ayarlar.\n",
    "plt.xticks(ticks=[0, 1], labels=['Sınıf 0: İyi Huylu', 'Sınıf 1: Kötü Amaçlı'])\n",
    "\n",
    "# grafiği görüntüler.\n",
    "plt.show()\n",
    "\n",
    "# her sınıfın (0 ve 1) kaç örneğe sahip olduğunu sayar.\n",
    "class_counts = y.value_counts()\n",
    "\n",
    "# her sınıfın toplamdaki oranını hesaplar.\n",
    "class_ratios = class_counts / len(y)\n",
    "\n",
    "# her sınıfın oranını yüzde olarak yazdırır.\n",
    "print(f\"Sınıf 0: {class_ratios[0]*100:.2f}%\")\n",
    "print(f\"Sınıf 1: {class_ratios[1]*100:.2f}%\")"
   ],
   "metadata": {
    "execution": {
     "iopub.status.busy": "2024-04-14T13:53:29.839441Z",
     "iopub.execute_input": "2024-04-14T13:53:29.839747Z",
     "iopub.status.idle": "2024-04-14T13:53:30.252128Z",
     "shell.execute_reply.started": "2024-04-14T13:53:29.839721Z",
     "shell.execute_reply": "2024-04-14T13:53:30.251230Z"
    },
    "trusted": true,
    "ExecuteTime": {
     "end_time": "2024-06-04T01:07:34.671656Z",
     "start_time": "2024-06-04T01:07:30.852010Z"
    }
   },
   "outputs": [
    {
     "name": "stderr",
     "output_type": "stream",
     "text": [
      "C:\\Users\\abdulkadir\\AppData\\Local\\Temp\\ipykernel_22348\\4084445953.py:5: FutureWarning: \n",
      "\n",
      "Passing `palette` without assigning `hue` is deprecated and will be removed in v0.14.0. Assign the `x` variable to `hue` and set `legend=False` for the same effect.\n",
      "\n",
      "  sns.countplot(x=y, palette='Blues')\n"
     ]
    },
    {
     "data": {
      "text/plain": [
       "<Figure size 800x600 with 1 Axes>"
      ],
      "image/png": "[encoded data removed]"
     },
     "metadata": {},
     "output_type": "display_data"
    },
    {
     "name": "stdout",
     "output_type": "stream",
     "text": [
      "Sınıf 0: 84.92%\n",
      "Sınıf 1: 15.08%\n"
     ]
    }
   ],
   "execution_count": 18
  },
  {
   "cell_type": "code",
   "source": [
    "def extractAllSets(X,y,p_train,p_val,p_test,random_state=seed_pi,shuffle=True):\n",
    "# extractAllSets adlı bir fonksiyon tanımlar. Bu fonksiyon, bir pandas veri çerçevesi X (özellikler) ve bir pandas serisi y (hedef) alır ve bunları eğitim, doğrulama ve test olmak üzere üç alt kümeye ayırır. Hedef serisini de buna göre y_train, y_val ve y_test olarak ayırır.\n",
    "    #İlk train_test_split çağrısı veriyi iki kümeye ayırır:\n",
    "\n",
    "    #X_train ve y_train eğitim seti, verinin p_train yüzdesini içerir.\n",
    "    #X_temp ve y_temp kalan veri, daha sonra doğrulama ve test setlerine ayrılacaktır.\n",
    "    #stratify=y parametresi, eğitim setinin orijinal veriyle aynı sınıf dağılımını korumasını sağlar. Bu, dengesiz sınıflar içeren veri kümeleri için önemlidir.\n",
    "    X_train, X_temp, y_train, y_temp = train_test_split(X,y, stratify=y, \n",
    "        test_size=(1.0 - p_train), random_state=random_state, shuffle=shuffle)\n",
    "                                                                        # Enable/desable shuffling\n",
    "    # İkinci train_test_split çağrısı X_temp ve y_temp'i doğrulama ve test setlerine ayırır:\n",
    "\n",
    "    #X_val ve y_val doğrulama seti, kalan verinin p_val yüzdesini içerir.\n",
    "    #X_test ve y_test test seti, kalan verinin p_test yüzdesini içerir.\n",
    "    #stratify=y_temp parametresi, doğrulama ve test setlerinin de orijinal veriyle aynı sınıf dağılımını korumasını sağlar.\n",
    "    \n",
    "    # fraction değişkeni, p_test'in p_val ve p_test toplamına oranı olarak hesaplanır. Bu, doğrulama ve test setlerinin birbirine göre belirtilen oranlara sahip olmasını sağlar.\n",
    "    fraction = p_test / (p_val + p_test)\n",
    "    X_val, X_test, y_val, y_test = train_test_split(X_temp,y_temp,stratify=y_temp,\n",
    "        test_size=fraction, random_state=random_state, shuffle=shuffle) # Enable/desable shuffling\n",
    "    # Tekrarlanabilirliği sağlamak için her iki train_test_split çağrısı için aynı random_state kullanılır. Bu, aynı parametrelerle fonksiyonu birden fazla çalıştırırsanız aynı bölümleri alacağınız anlamına gelir.\n",
    "\n",
    "# Fonksiyon altı değer döndürür:\n",
    "\n",
    "# X_train: Eğitim seti özellikleri\n",
    "# X_val: Doğrulama seti özellikleri\n",
    "# X_test: Test seti özellikleri\n",
    "# y_train: Eğitim seti hedef değerleri\n",
    "# y_val: doğrulama seti hedef değerleri\n",
    "# y_test: test seti hedef değerleri  \n",
    "    return X_train, X_val, X_test, y_train, y_val, y_test"
   ],
   "metadata": {
    "execution": {
     "iopub.status.busy": "2024-04-14T13:53:30.253769Z",
     "iopub.execute_input": "2024-04-14T13:53:30.254057Z",
     "iopub.status.idle": "2024-04-14T13:53:30.262788Z",
     "shell.execute_reply.started": "2024-04-14T13:53:30.254030Z",
     "shell.execute_reply": "2024-04-14T13:53:30.261858Z"
    },
    "trusted": true,
    "ExecuteTime": {
     "end_time": "2024-06-04T01:07:34.687249Z",
     "start_time": "2024-06-04T01:07:34.673167Z"
    }
   },
   "outputs": [],
   "execution_count": 19
  },
  {
   "cell_type": "code",
   "source": [
    "# extractAllSets verilerinizden eğitim, doğrulama ve test setlerini belirli oranlarda ayırmak için kullanılır.\n",
    "# X (özellikler) ve y (hedefler) adlı iki parametre alır.\n",
    "# eğitim, doğrulama ve test setleri için istenen oranları belirleyen üç float parametre de alır.\n",
    "# bu oranlara göre ayrılan setleri X_train, X_val, X_test, y_train, y_val ve y_test adlı değişkenlere atar ve geri döndürür.\n",
    "X_train, X_val, X_test, y_train, y_val, y_test = extractAllSets(X, y, 0.75, 0.10, 0.15)\n",
    "\n",
    "# original_data adlı bir listede ayıklanan setler organize edilir.\n",
    "# eğitim, doğrulama ve test setlerini hem özellikler hem de hedef değerler için içerir.\n",
    "original_data = [X_train, X_val, X_test, y_train, y_val, y_test]"
   ],
   "metadata": {
    "execution": {
     "iopub.status.busy": "2024-04-14T13:53:30.263945Z",
     "iopub.execute_input": "2024-04-14T13:53:30.264229Z",
     "iopub.status.idle": "2024-04-14T13:53:32.674270Z",
     "shell.execute_reply.started": "2024-04-14T13:53:30.264205Z",
     "shell.execute_reply": "2024-04-14T13:53:32.673179Z"
    },
    "trusted": true,
    "ExecuteTime": {
     "end_time": "2024-06-04T01:07:36.580204Z",
     "start_time": "2024-06-04T01:07:34.689212Z"
    }
   },
   "outputs": [],
   "execution_count": 20
  },
  {
   "cell_type": "code",
   "source": [
    "# SMOTE (Synthetic Minority Oversampling Technique) adlı bir örnekleme tekniğini kullanarak az sayıda örneğe sahip azınlık sınıfını aşırı örnekleme (oversample) yapmak için kullanılır. özellikle sınıf dengesizliği olan veri kümelerinde faydalıdır.\n",
    "\n",
    "# SMOTE nesnesi oluşturur.\n",
    "# sampling_strategy = 0.5 azınlık sınıfının çoğunluk sınıfına eşit sayıda örneğe ulaşana kadar aşırı örnekleme yapılacağını belirtir.\n",
    "# random_state=seed_pi rastgelelik için bir başlangıç değeri ayarlar.\n",
    "smote = SMOTE (sampling_strategy = 0.5, random_state=seed_pi)\n",
    "X_train, y_train = smote.fit_resample (X_train, y_train)\n",
    "# SMOTE nesnesini kullanarak eğitim setindeki azınlık sınıfını aşırı örnekleme yapar.\n",
    "# X_train ve y_train değişkenleri, aşırı örneklemeden sonra güncellenmiş eğitim seti verilerini ve hedef değerlerini içerir."
   ],
   "metadata": {
    "execution": {
     "iopub.status.busy": "2024-04-14T13:53:32.675662Z",
     "iopub.execute_input": "2024-04-14T13:53:32.675999Z",
     "iopub.status.idle": "2024-04-14T13:57:03.089115Z",
     "shell.execute_reply.started": "2024-04-14T13:53:32.675971Z",
     "shell.execute_reply": "2024-04-14T13:57:03.088244Z"
    },
    "trusted": true,
    "ExecuteTime": {
     "end_time": "2024-06-04T01:08:57.158228Z",
     "start_time": "2024-06-04T01:07:36.580719Z"
    }
   },
   "outputs": [],
   "execution_count": 21
  },
  {
   "cell_type": "code",
   "source": [
    "# Veri Ölçekleme\n",
    "\n",
    "# QuantileTransformer'ı tekdüze dağılımla başlatır\n",
    "quantile_transformer = QuantileTransformer(n_quantiles=10**4, output_distribution='uniform')\n",
    "\n",
    "# Eğitim verilerini sığdırın ve dönüştürür\n",
    "X_train_transformed = quantile_transformer.fit_transform(X_train)\n",
    "\n",
    "# Aynı dönüştürücüyü kullanarak doğrulama ve test verilerini dönüştürür\n",
    "X_val_transformed  = quantile_transformer.transform(X_val)\n",
    "X_test_transformed = quantile_transformer.transform(X_test)\n",
    "\n",
    "# Dönüştürülmüş verileri liste olarak düzenler\n",
    "scaled_data = [X_train_transformed, X_val_transformed, X_test_transformed, y_train, y_val, y_test]"
   ],
   "metadata": {
    "execution": {
     "iopub.status.busy": "2024-04-14T13:57:03.090328Z",
     "iopub.execute_input": "2024-04-14T13:57:03.090594Z",
     "iopub.status.idle": "2024-04-14T13:57:46.504083Z",
     "shell.execute_reply.started": "2024-04-14T13:57:03.090571Z",
     "shell.execute_reply": "2024-04-14T13:57:46.503231Z"
    },
    "trusted": true,
    "ExecuteTime": {
     "end_time": "2024-06-04T01:09:23.620312Z",
     "start_time": "2024-06-04T01:08:57.175228Z"
    }
   },
   "outputs": [],
   "execution_count": 22
  },
  {
   "cell_type": "code",
   "source": [
    "# gri tonlamalı görüntülere dönüştürme\n",
    "\n",
    "# Define the Tab2Img model\n",
    "model_tab2img = Tab2Img()\n",
    "\n",
    "# verideki her örnek bir (9x9) numpy dizisi haline gelir.\n",
    "# Eğitim verilerini dönüştürürr\n",
    "X_train_images = model_tab2img.fit_transform(X_train_transformed, y_train.values)\n",
    "\n",
    "# Doğrulama ve test verilerini dönüştürür (uygun modeli kullanarak)\n",
    "X_val_images  = model_tab2img.transform(X_val_transformed)\n",
    "X_test_images = model_tab2img.transform(X_test_transformed)\n",
    "\n",
    "# verideki her dizi (9x9x1) gri tonlamalı bir görüntü haline gelir.\n",
    "# Gri Tonlama Dönüşümü - CNN girişi için görüntü verilerini yeniden şekillendirir\n",
    "X_train_images = X_train_images.reshape(-1, 9, 9, 1)\n",
    "X_val_images   = X_val_images.reshape(  -1, 9, 9, 1)\n",
    "X_test_images  = X_test_images.reshape( -1, 9, 9, 1)\n",
    "\n",
    "# Bir örneği görselleştirir\n",
    "plt.imshow(X_train_images[0])\n",
    "plt.colorbar()\n",
    "plt.show()"
   ],
   "metadata": {
    "execution": {
     "iopub.status.busy": "2024-04-14T13:57:46.505371Z",
     "iopub.execute_input": "2024-04-14T13:57:46.505695Z",
     "iopub.status.idle": "2024-04-14T13:57:52.755178Z",
     "shell.execute_reply.started": "2024-04-14T13:57:46.505667Z",
     "shell.execute_reply": "2024-04-14T13:57:52.754196Z"
    },
    "trusted": true,
    "ExecuteTime": {
     "end_time": "2024-06-04T01:09:33.158413Z",
     "start_time": "2024-06-04T01:09:23.621312Z"
    }
   },
   "outputs": [
    {
     "data": {
      "text/plain": [
       "<Figure size 640x480 with 2 Axes>"
      ],
      "image/png": "[encoded data removed]"
     },
     "metadata": {},
     "output_type": "display_data"
    }
   ],
   "execution_count": 23
  },
  {
   "cell_type": "code",
   "source": [
    "# model_0 adında bir derin öğrenme modelinin mimarisini tanımlar. görüntü sınıflandırma görevleri için tasarlanmıştır.\n",
    "\n",
    "# Başlatıcıları tanımlar\n",
    "\n",
    "conv_initializer   = HeNormal(seed=seed_pi)\n",
    "# HeNormal başlatıcısını tanımlar. Bu başlatıcı, ağırlıkları normal dağılımdan rastgele çeker ve He normalizasyonu uygular. Özellikle derin ağlarda ağırlıkların patlama sorununu önlemeye yardımcı olur.\n",
    "\n",
    "dense_initializer  = HeUniform(seed=seed_pi)\n",
    "# HeUniform başlatıcısını tanımlar. ağırlıkları tekdüze dağılımdan rastgele çeker ve He normalizasyonu uygular. Bu da derin ağlarda ağırlık patlamasını önlemeye yardımcı olur.\n",
    "\n",
    "output_initializer = GlorotUniform(seed=seed_pi)\n",
    "# GlorotUniform başlatıcısını tanımlar. Bu başlatıcı, ağırlıkları tekdüze dağılımdan rastgele çeker ve Glorot normalizasyonu uygular. çıkış katmanında ağırlık patlamasını önlemeye yardımcı olur.\n",
    "\n",
    "model_0 = Sequential([\n",
    "    Input(shape=(9, 9, 1)),\n",
    "    Conv2D(32, kernel_size=(3, 3), activation='relu', kernel_initializer=conv_initializer),\n",
    "    MaxPooling2D(pool_size=(2, 2)),\n",
    "    Flatten(),\n",
    "    Dense(128, activation = 'relu', kernel_initializer = dense_initializer),\n",
    "    Dense(1, activation = 'sigmoid', kernel_initializer = output_initializer)])\n",
    "# Sequential modelini kullanarak model_0 adında bir model oluşturur.\n",
    "# Input(shape=(9, 9, 1)): modelin girişini tanımlar. Giriş, 9x9 boyutunda ve tek kanallı (gri tonlama) bir görüntüdür.\n",
    "# Conv2D(32, kernel_size=(3, 3), activation='relu', kernel_initializer=conv_initializer): 3x3 boyutunda çekir kullanan bir 2D konvülisyon katmanıdır. Katman 32 adet filtre öğrenir ve ReLU aktivasyon fonksiyonunu kullanır. Ağırlıklar conv_initializer ile başlatılır.\n",
    "# MaxPooling2D(pool_size=(2, 2)): 2x2 boyutunda bir havuzlama katmanıdır. Katman, girdiden 2x2 boyutunda bloklar alarak maksimum değeri seçer ve bu şekilde boyut küçültme yapar.\n",
    "# Flatten(): 2D verisini tek boyutlu bir vektöre dönüştürür.\n",
    "# Dense(128, activation = 'relu', kernel_initializer = dense_initializer): 128 nöronlu bir yoğun katmandır. Katman ReLU aktivasyon fonksiyonunu kullanır ve ağırlıklar dense_initializer ile başlatılır.\n",
    "# Dense(1, activation = 'sigmoid', kernel_initializer = output_initializer): çıkış katmanıdır. Katman 1 adet nöron içerir ve sigmoid aktivasyon fonksiyonunu kullanır. Ağırlıklar output_initializer ile başlatılır.\n",
    "# model_0.summary()\n",
    "\n",
    "# modelin mimarisini özetleyen bir tablo yazdırır. her katmanın adını, giriş ve çıkış boyutlarını, aktivasyon fonksiyonunu ve kullanılan başlatıcıyı gösterir. modelin yapısını ve karmaşıklığını anlamaya yardımcı olur.\n",
    "model_0.summary()"
   ],
   "metadata": {
    "execution": {
     "iopub.status.busy": "2024-04-14T13:57:52.756253Z",
     "iopub.execute_input": "2024-04-14T13:57:52.756559Z",
     "iopub.status.idle": "2024-04-14T13:57:53.454119Z",
     "shell.execute_reply.started": "2024-04-14T13:57:52.756509Z",
     "shell.execute_reply": "2024-04-14T13:57:53.453216Z"
    },
    "trusted": true,
    "ExecuteTime": {
     "end_time": "2024-06-04T01:09:34.507264Z",
     "start_time": "2024-06-04T01:09:33.163929Z"
    }
   },
   "outputs": [
    {
     "data": {
      "text/plain": [
       "\u001B[1mModel: \"sequential\"\u001B[0m\n"
      ],
      "text/html": [
       "<pre style=\"white-space:pre;overflow-x:auto;line-height:normal;font-family:Menlo,'DejaVu Sans Mono',consolas,'Courier New',monospace\"><span style=\"font-weight: bold\">Model: \"sequential\"</span>\n",
       "</pre>\n"
      ]
     },
     "metadata": {},
     "output_type": "display_data"
    },
    {
     "data": {
      "text/plain": [
       "┏━━━━━━━━━━━━━━━━━━━━━━━━━━━━━━━━━┳━━━━━━━━━━━━━━━━━━━━━━━━┳━━━━━━━━━━━━━━━┓\n",
       "┃\u001B[1m \u001B[0m\u001B[1mLayer (type)                   \u001B[0m\u001B[1m \u001B[0m┃\u001B[1m \u001B[0m\u001B[1mOutput Shape          \u001B[0m\u001B[1m \u001B[0m┃\u001B[1m \u001B[0m\u001B[1m      Param #\u001B[0m\u001B[1m \u001B[0m┃\n",
       "┡━━━━━━━━━━━━━━━━━━━━━━━━━━━━━━━━━╇━━━━━━━━━━━━━━━━━━━━━━━━╇━━━━━━━━━━━━━━━┩\n",
       "│ conv2d (\u001B[38;5;33mConv2D\u001B[0m)                 │ (\u001B[38;5;45mNone\u001B[0m, \u001B[38;5;34m7\u001B[0m, \u001B[38;5;34m7\u001B[0m, \u001B[38;5;34m32\u001B[0m)       │           \u001B[38;5;34m320\u001B[0m │\n",
       "├─────────────────────────────────┼────────────────────────┼───────────────┤\n",
       "│ max_pooling2d (\u001B[38;5;33mMaxPooling2D\u001B[0m)    │ (\u001B[38;5;45mNone\u001B[0m, \u001B[38;5;34m3\u001B[0m, \u001B[38;5;34m3\u001B[0m, \u001B[38;5;34m32\u001B[0m)       │             \u001B[38;5;34m0\u001B[0m │\n",
       "├─────────────────────────────────┼────────────────────────┼───────────────┤\n",
       "│ flatten (\u001B[38;5;33mFlatten\u001B[0m)               │ (\u001B[38;5;45mNone\u001B[0m, \u001B[38;5;34m288\u001B[0m)            │             \u001B[38;5;34m0\u001B[0m │\n",
       "├─────────────────────────────────┼────────────────────────┼───────────────┤\n",
       "│ dense (\u001B[38;5;33mDense\u001B[0m)                   │ (\u001B[38;5;45mNone\u001B[0m, \u001B[38;5;34m128\u001B[0m)            │        \u001B[38;5;34m36,992\u001B[0m │\n",
       "├─────────────────────────────────┼────────────────────────┼───────────────┤\n",
       "│ dense_1 (\u001B[38;5;33mDense\u001B[0m)                 │ (\u001B[38;5;45mNone\u001B[0m, \u001B[38;5;34m1\u001B[0m)              │           \u001B[38;5;34m129\u001B[0m │\n",
       "└─────────────────────────────────┴────────────────────────┴───────────────┘\n"
      ],
      "text/html": [
       "<pre style=\"white-space:pre;overflow-x:auto;line-height:normal;font-family:Menlo,'DejaVu Sans Mono',consolas,'Courier New',monospace\">┏━━━━━━━━━━━━━━━━━━━━━━━━━━━━━━━━━┳━━━━━━━━━━━━━━━━━━━━━━━━┳━━━━━━━━━━━━━━━┓\n",
       "┃<span style=\"font-weight: bold\"> Layer (type)                    </span>┃<span style=\"font-weight: bold\"> Output Shape           </span>┃<span style=\"font-weight: bold\">       Param # </span>┃\n",
       "┡━━━━━━━━━━━━━━━━━━━━━━━━━━━━━━━━━╇━━━━━━━━━━━━━━━━━━━━━━━━╇━━━━━━━━━━━━━━━┩\n",
       "│ conv2d (<span style=\"color: #0087ff; text-decoration-color: #0087ff\">Conv2D</span>)                 │ (<span style=\"color: #00d7ff; text-decoration-color: #00d7ff\">None</span>, <span style=\"color: #00af00; text-decoration-color: #00af00\">7</span>, <span style=\"color: #00af00; text-decoration-color: #00af00\">7</span>, <span style=\"color: #00af00; text-decoration-color: #00af00\">32</span>)       │           <span style=\"color: #00af00; text-decoration-color: #00af00\">320</span> │\n",
       "├─────────────────────────────────┼────────────────────────┼───────────────┤\n",
       "│ max_pooling2d (<span style=\"color: #0087ff; text-decoration-color: #0087ff\">MaxPooling2D</span>)    │ (<span style=\"color: #00d7ff; text-decoration-color: #00d7ff\">None</span>, <span style=\"color: #00af00; text-decoration-color: #00af00\">3</span>, <span style=\"color: #00af00; text-decoration-color: #00af00\">3</span>, <span style=\"color: #00af00; text-decoration-color: #00af00\">32</span>)       │             <span style=\"color: #00af00; text-decoration-color: #00af00\">0</span> │\n",
       "├─────────────────────────────────┼────────────────────────┼───────────────┤\n",
       "│ flatten (<span style=\"color: #0087ff; text-decoration-color: #0087ff\">Flatten</span>)               │ (<span style=\"color: #00d7ff; text-decoration-color: #00d7ff\">None</span>, <span style=\"color: #00af00; text-decoration-color: #00af00\">288</span>)            │             <span style=\"color: #00af00; text-decoration-color: #00af00\">0</span> │\n",
       "├─────────────────────────────────┼────────────────────────┼───────────────┤\n",
       "│ dense (<span style=\"color: #0087ff; text-decoration-color: #0087ff\">Dense</span>)                   │ (<span style=\"color: #00d7ff; text-decoration-color: #00d7ff\">None</span>, <span style=\"color: #00af00; text-decoration-color: #00af00\">128</span>)            │        <span style=\"color: #00af00; text-decoration-color: #00af00\">36,992</span> │\n",
       "├─────────────────────────────────┼────────────────────────┼───────────────┤\n",
       "│ dense_1 (<span style=\"color: #0087ff; text-decoration-color: #0087ff\">Dense</span>)                 │ (<span style=\"color: #00d7ff; text-decoration-color: #00d7ff\">None</span>, <span style=\"color: #00af00; text-decoration-color: #00af00\">1</span>)              │           <span style=\"color: #00af00; text-decoration-color: #00af00\">129</span> │\n",
       "└─────────────────────────────────┴────────────────────────┴───────────────┘\n",
       "</pre>\n"
      ]
     },
     "metadata": {},
     "output_type": "display_data"
    },
    {
     "data": {
      "text/plain": [
       "\u001B[1m Total params: \u001B[0m\u001B[38;5;34m37,441\u001B[0m (146.25 KB)\n"
      ],
      "text/html": [
       "<pre style=\"white-space:pre;overflow-x:auto;line-height:normal;font-family:Menlo,'DejaVu Sans Mono',consolas,'Courier New',monospace\"><span style=\"font-weight: bold\"> Total params: </span><span style=\"color: #00af00; text-decoration-color: #00af00\">37,441</span> (146.25 KB)\n",
       "</pre>\n"
      ]
     },
     "metadata": {},
     "output_type": "display_data"
    },
    {
     "data": {
      "text/plain": [
       "\u001B[1m Trainable params: \u001B[0m\u001B[38;5;34m37,441\u001B[0m (146.25 KB)\n"
      ],
      "text/html": [
       "<pre style=\"white-space:pre;overflow-x:auto;line-height:normal;font-family:Menlo,'DejaVu Sans Mono',consolas,'Courier New',monospace\"><span style=\"font-weight: bold\"> Trainable params: </span><span style=\"color: #00af00; text-decoration-color: #00af00\">37,441</span> (146.25 KB)\n",
       "</pre>\n"
      ]
     },
     "metadata": {},
     "output_type": "display_data"
    },
    {
     "data": {
      "text/plain": [
       "\u001B[1m Non-trainable params: \u001B[0m\u001B[38;5;34m0\u001B[0m (0.00 B)\n"
      ],
      "text/html": [
       "<pre style=\"white-space:pre;overflow-x:auto;line-height:normal;font-family:Menlo,'DejaVu Sans Mono',consolas,'Courier New',monospace\"><span style=\"font-weight: bold\"> Non-trainable params: </span><span style=\"color: #00af00; text-decoration-color: #00af00\">0</span> (0.00 B)\n",
       "</pre>\n"
      ]
     },
     "metadata": {},
     "output_type": "display_data"
    }
   ],
   "execution_count": 24
  },
  {
   "cell_type": "code",
   "source": [
    "# model_0 modelini eğitimi için kullanılan öğrenme oranını ve derleme ayarlarını tanımlar.\n",
    "\n",
    "# ReduceLROnPlateau zamanlayıcısını tanımlar, LR:Öğrenme Oranı\n",
    "reduce_lr = ReduceLROnPlateau( \n",
    "    monitor='val_accuracy',    # Doğrulama doğruluğunu izler\n",
    "    patience= 5,               # patient için varsayılan değer 10'dur\n",
    "    min_lr= 1e-07,             # min_lr: Minimum öğrenme oranı (varsayılan değer=0.0001)\n",
    "    verbose=1,                 # Öğrenme oranı düşürüldüğünde ayrıntılı çıktı sağlar\n",
    "    factor= 0.1)               # Varsayılan faktör 0,1'dir, bu da \n",
    "                               # tetiklendiğinde öğrenme oranını %10 artırır.\n",
    "\n",
    "# Modeli Adam optimizer, ikili çapraz entropi kaybı ve doğruluk metrikleriyle derler\n",
    "model_0.compile(optimizer='adam', loss='binary_crossentropy', metrics=['accuracy'])"
   ],
   "metadata": {
    "execution": {
     "iopub.status.busy": "2024-04-14T13:57:53.455302Z",
     "iopub.execute_input": "2024-04-14T13:57:53.455617Z",
     "iopub.status.idle": "2024-04-14T13:57:53.471308Z",
     "shell.execute_reply.started": "2024-04-14T13:57:53.455591Z",
     "shell.execute_reply": "2024-04-14T13:57:53.470367Z"
    },
    "trusted": true,
    "ExecuteTime": {
     "end_time": "2024-06-04T01:09:34.538195Z",
     "start_time": "2024-06-04T01:09:34.510898Z"
    }
   },
   "outputs": [],
   "execution_count": 25
  },
  {
   "cell_type": "code",
   "source": [
    "# model_0 modelini fit yöntemi kullanarak eğitir.\n",
    "# X_train_images: Eğitim veri özellikleri (görüntüler).\n",
    "# y_train: Eğitim veri hedef değerleri (etiketler).\n",
    "# validation_data=(X_val_images, y_val): Eğitim sırasında performansı izlemek için doğrulama veriyi belirtir.\n",
    "# epochs=50: Tüm eğitim verisi üzerinde kaç kez yineleyeceğini belirtir.\n",
    "# batch_size=1024: Her yinelemede (epoch) işlenecek örnek sayısını belirtir.\n",
    "# callbacks=[reduce_lr]: Eğitim sırasında çağrılacak geri çağırma fonksiyonlarının bir listesidir. Bu durumda, yalnızca reduce_lr geri çağırma fonksiyonu kullanılır.\n",
    "history_0  = model_0.fit(X_train_images, y_train, validation_data=(X_val_images, y_val), epochs=50, \n",
    "    batch_size=1024, callbacks=[reduce_lr])\n",
    "# validation_data: eğitim sırasında modelin performansını değerlendirmek için ayrı bir veri kümesi (görüntüler ve etiketler) sağlar.modelin eğitim verisine aşırı uymasını önlemeye yardımcı olur.\n",
    "# epochs: Mmodelin tüm eğitim verisi üzerinde kaç kez yineleyeceğini belirtir. Her yinelemeye bir epoch denir.\n",
    "# batch_size: her yinelemede işlenen örnek sayısını tanımlar. Daha küçük batch boyutları daha sık güncellemeler ve potansiyel olarak daha iyi bir yakınsama sağlayabilirken, daha büyük batch boyutları verimliliği artırabilir.\n",
    "# callbacks: Eğitim sırasında belirli noktalarda çağrılacak işlevleri tanımlamanıza olanak tanır. Bu durumda, doğrulama performansına göre öğrenme oranını otomatik olarak ayarlamak için reduce_lr geri çağırma fonksiyonu kullanılır.\n",
    "\n",
    "# history_0: eğitim geçmişini depolar. her epoch boyunca modelin hem eğitim hem de doğrulama setlerindeki performansı hakkında bilgi içerir."
   ],
   "metadata": {
    "execution": {
     "iopub.status.busy": "2024-04-14T13:57:53.472489Z",
     "iopub.execute_input": "2024-04-14T13:57:53.472854Z",
     "iopub.status.idle": "2024-04-14T14:00:25.351902Z",
     "shell.execute_reply.started": "2024-04-14T13:57:53.472828Z",
     "shell.execute_reply": "2024-04-14T14:00:25.350993Z"
    },
    "trusted": true,
    "ExecuteTime": {
     "end_time": "2024-06-04T01:19:20.984506Z",
     "start_time": "2024-06-04T01:09:34.540343Z"
    }
   },
   "outputs": [
    {
     "name": "stdout",
     "output_type": "stream",
     "text": [
      "Epoch 1/50\n",
      "\u001B[1m2083/2083\u001B[0m \u001B[32m━━━━━━━━━━━━━━━━━━━━\u001B[0m\u001B[37m\u001B[0m \u001B[1m13s\u001B[0m 6ms/step - accuracy: 0.9683 - loss: 0.0934 - val_accuracy: 0.9933 - val_loss: 0.0237 - learning_rate: 0.0010\n",
      "Epoch 2/50\n",
      "\u001B[1m2083/2083\u001B[0m \u001B[32m━━━━━━━━━━━━━━━━━━━━\u001B[0m\u001B[37m\u001B[0m \u001B[1m12s\u001B[0m 6ms/step - accuracy: 0.9936 - loss: 0.0206 - val_accuracy: 0.9951 - val_loss: 0.0179 - learning_rate: 0.0010\n",
      "Epoch 3/50\n",
      "\u001B[1m2083/2083\u001B[0m \u001B[32m━━━━━━━━━━━━━━━━━━━━\u001B[0m\u001B[37m\u001B[0m \u001B[1m12s\u001B[0m 6ms/step - accuracy: 0.9951 - loss: 0.0162 - val_accuracy: 0.9957 - val_loss: 0.0141 - learning_rate: 0.0010\n",
      "Epoch 4/50\n",
      "\u001B[1m2083/2083\u001B[0m \u001B[32m━━━━━━━━━━━━━━━━━━━━\u001B[0m\u001B[37m\u001B[0m \u001B[1m12s\u001B[0m 6ms/step - accuracy: 0.9957 - loss: 0.0140 - val_accuracy: 0.9963 - val_loss: 0.0117 - learning_rate: 0.0010\n",
      "Epoch 5/50\n",
      "\u001B[1m2083/2083\u001B[0m \u001B[32m━━━━━━━━━━━━━━━━━━━━\u001B[0m\u001B[37m\u001B[0m \u001B[1m12s\u001B[0m 6ms/step - accuracy: 0.9961 - loss: 0.0126 - val_accuracy: 0.9970 - val_loss: 0.0099 - learning_rate: 0.0010\n",
      "Epoch 6/50\n",
      "\u001B[1m2083/2083\u001B[0m \u001B[32m━━━━━━━━━━━━━━━━━━━━\u001B[0m\u001B[37m\u001B[0m \u001B[1m12s\u001B[0m 6ms/step - accuracy: 0.9963 - loss: 0.0116 - val_accuracy: 0.9974 - val_loss: 0.0085 - learning_rate: 0.0010\n",
      "Epoch 7/50\n",
      "\u001B[1m2083/2083\u001B[0m \u001B[32m━━━━━━━━━━━━━━━━━━━━\u001B[0m\u001B[37m\u001B[0m \u001B[1m12s\u001B[0m 6ms/step - accuracy: 0.9965 - loss: 0.0109 - val_accuracy: 0.9976 - val_loss: 0.0077 - learning_rate: 0.0010\n",
      "Epoch 8/50\n",
      "\u001B[1m2083/2083\u001B[0m \u001B[32m━━━━━━━━━━━━━━━━━━━━\u001B[0m\u001B[37m\u001B[0m \u001B[1m12s\u001B[0m 6ms/step - accuracy: 0.9967 - loss: 0.0104 - val_accuracy: 0.9977 - val_loss: 0.0074 - learning_rate: 0.0010\n",
      "Epoch 9/50\n",
      "\u001B[1m2083/2083\u001B[0m \u001B[32m━━━━━━━━━━━━━━━━━━━━\u001B[0m\u001B[37m\u001B[0m \u001B[1m12s\u001B[0m 6ms/step - accuracy: 0.9968 - loss: 0.0100 - val_accuracy: 0.9977 - val_loss: 0.0072 - learning_rate: 0.0010\n",
      "Epoch 10/50\n",
      "\u001B[1m2083/2083\u001B[0m \u001B[32m━━━━━━━━━━━━━━━━━━━━\u001B[0m\u001B[37m\u001B[0m \u001B[1m12s\u001B[0m 6ms/step - accuracy: 0.9969 - loss: 0.0096 - val_accuracy: 0.9978 - val_loss: 0.0071 - learning_rate: 0.0010\n",
      "Epoch 11/50\n",
      "\u001B[1m2083/2083\u001B[0m \u001B[32m━━━━━━━━━━━━━━━━━━━━\u001B[0m\u001B[37m\u001B[0m \u001B[1m12s\u001B[0m 6ms/step - accuracy: 0.9970 - loss: 0.0093 - val_accuracy: 0.9978 - val_loss: 0.0068 - learning_rate: 0.0010\n",
      "Epoch 12/50\n",
      "\u001B[1m2083/2083\u001B[0m \u001B[32m━━━━━━━━━━━━━━━━━━━━\u001B[0m\u001B[37m\u001B[0m \u001B[1m11s\u001B[0m 5ms/step - accuracy: 0.9971 - loss: 0.0090 - val_accuracy: 0.9979 - val_loss: 0.0069 - learning_rate: 0.0010\n",
      "Epoch 13/50\n",
      "\u001B[1m2083/2083\u001B[0m \u001B[32m━━━━━━━━━━━━━━━━━━━━\u001B[0m\u001B[37m\u001B[0m \u001B[1m12s\u001B[0m 6ms/step - accuracy: 0.9972 - loss: 0.0087 - val_accuracy: 0.9979 - val_loss: 0.0069 - learning_rate: 0.0010\n",
      "Epoch 14/50\n",
      "\u001B[1m2083/2083\u001B[0m \u001B[32m━━━━━━━━━━━━━━━━━━━━\u001B[0m\u001B[37m\u001B[0m \u001B[1m13s\u001B[0m 6ms/step - accuracy: 0.9973 - loss: 0.0085 - val_accuracy: 0.9979 - val_loss: 0.0067 - learning_rate: 0.0010\n",
      "Epoch 15/50\n",
      "\u001B[1m2083/2083\u001B[0m \u001B[32m━━━━━━━━━━━━━━━━━━━━\u001B[0m\u001B[37m\u001B[0m \u001B[1m11s\u001B[0m 5ms/step - accuracy: 0.9973 - loss: 0.0082 - val_accuracy: 0.9980 - val_loss: 0.0068 - learning_rate: 0.0010\n",
      "Epoch 16/50\n",
      "\u001B[1m2083/2083\u001B[0m \u001B[32m━━━━━━━━━━━━━━━━━━━━\u001B[0m\u001B[37m\u001B[0m \u001B[1m11s\u001B[0m 5ms/step - accuracy: 0.9974 - loss: 0.0080 - val_accuracy: 0.9979 - val_loss: 0.0067 - learning_rate: 0.0010\n",
      "Epoch 17/50\n",
      "\u001B[1m2083/2083\u001B[0m \u001B[32m━━━━━━━━━━━━━━━━━━━━\u001B[0m\u001B[37m\u001B[0m \u001B[1m11s\u001B[0m 5ms/step - accuracy: 0.9975 - loss: 0.0079 - val_accuracy: 0.9980 - val_loss: 0.0065 - learning_rate: 0.0010\n",
      "Epoch 18/50\n",
      "\u001B[1m2083/2083\u001B[0m \u001B[32m━━━━━━━━━━━━━━━━━━━━\u001B[0m\u001B[37m\u001B[0m \u001B[1m12s\u001B[0m 6ms/step - accuracy: 0.9975 - loss: 0.0077 - val_accuracy: 0.9979 - val_loss: 0.0067 - learning_rate: 0.0010\n",
      "Epoch 19/50\n",
      "\u001B[1m2083/2083\u001B[0m \u001B[32m━━━━━━━━━━━━━━━━━━━━\u001B[0m\u001B[37m\u001B[0m \u001B[1m11s\u001B[0m 5ms/step - accuracy: 0.9975 - loss: 0.0076 - val_accuracy: 0.9979 - val_loss: 0.0068 - learning_rate: 0.0010\n",
      "Epoch 20/50\n",
      "\u001B[1m2075/2083\u001B[0m \u001B[32m━━━━━━━━━━━━━━━━━━━\u001B[0m\u001B[37m━\u001B[0m \u001B[1m0s\u001B[0m 5ms/step - accuracy: 0.9976 - loss: 0.0075\n",
      "Epoch 20: ReduceLROnPlateau reducing learning rate to 0.00010000000474974513.\n",
      "\u001B[1m2083/2083\u001B[0m \u001B[32m━━━━━━━━━━━━━━━━━━━━\u001B[0m\u001B[37m\u001B[0m \u001B[1m11s\u001B[0m 5ms/step - accuracy: 0.9976 - loss: 0.0075 - val_accuracy: 0.9978 - val_loss: 0.0069 - learning_rate: 0.0010\n",
      "Epoch 21/50\n",
      "\u001B[1m2083/2083\u001B[0m \u001B[32m━━━━━━━━━━━━━━━━━━━━\u001B[0m\u001B[37m\u001B[0m \u001B[1m12s\u001B[0m 6ms/step - accuracy: 0.9978 - loss: 0.0064 - val_accuracy: 0.9981 - val_loss: 0.0053 - learning_rate: 1.0000e-04\n",
      "Epoch 22/50\n",
      "\u001B[1m2083/2083\u001B[0m \u001B[32m━━━━━━━━━━━━━━━━━━━━\u001B[0m\u001B[37m\u001B[0m \u001B[1m11s\u001B[0m 5ms/step - accuracy: 0.9978 - loss: 0.0062 - val_accuracy: 0.9981 - val_loss: 0.0053 - learning_rate: 1.0000e-04\n",
      "Epoch 23/50\n",
      "\u001B[1m2083/2083\u001B[0m \u001B[32m━━━━━━━━━━━━━━━━━━━━\u001B[0m\u001B[37m\u001B[0m \u001B[1m11s\u001B[0m 5ms/step - accuracy: 0.9978 - loss: 0.0062 - val_accuracy: 0.9981 - val_loss: 0.0053 - learning_rate: 1.0000e-04\n",
      "Epoch 24/50\n",
      "\u001B[1m2083/2083\u001B[0m \u001B[32m━━━━━━━━━━━━━━━━━━━━\u001B[0m\u001B[37m\u001B[0m \u001B[1m12s\u001B[0m 6ms/step - accuracy: 0.9978 - loss: 0.0062 - val_accuracy: 0.9982 - val_loss: 0.0053 - learning_rate: 1.0000e-04\n",
      "Epoch 25/50\n",
      "\u001B[1m2083/2083\u001B[0m \u001B[32m━━━━━━━━━━━━━━━━━━━━\u001B[0m\u001B[37m\u001B[0m \u001B[1m11s\u001B[0m 5ms/step - accuracy: 0.9979 - loss: 0.0061 - val_accuracy: 0.9981 - val_loss: 0.0053 - learning_rate: 1.0000e-04\n",
      "Epoch 26/50\n",
      "\u001B[1m2074/2083\u001B[0m \u001B[32m━━━━━━━━━━━━━━━━━━━\u001B[0m\u001B[37m━\u001B[0m \u001B[1m0s\u001B[0m 6ms/step - accuracy: 0.9979 - loss: 0.0061\n",
      "Epoch 26: ReduceLROnPlateau reducing learning rate to 1.0000000474974514e-05.\n",
      "\u001B[1m2083/2083\u001B[0m \u001B[32m━━━━━━━━━━━━━━━━━━━━\u001B[0m\u001B[37m\u001B[0m \u001B[1m13s\u001B[0m 6ms/step - accuracy: 0.9979 - loss: 0.0061 - val_accuracy: 0.9982 - val_loss: 0.0052 - learning_rate: 1.0000e-04\n",
      "Epoch 27/50\n",
      "\u001B[1m2083/2083\u001B[0m \u001B[32m━━━━━━━━━━━━━━━━━━━━\u001B[0m\u001B[37m\u001B[0m \u001B[1m11s\u001B[0m 5ms/step - accuracy: 0.9979 - loss: 0.0060 - val_accuracy: 0.9982 - val_loss: 0.0050 - learning_rate: 1.0000e-05\n",
      "Epoch 28/50\n",
      "\u001B[1m2083/2083\u001B[0m \u001B[32m━━━━━━━━━━━━━━━━━━━━\u001B[0m\u001B[37m\u001B[0m \u001B[1m11s\u001B[0m 5ms/step - accuracy: 0.9979 - loss: 0.0059 - val_accuracy: 0.9982 - val_loss: 0.0049 - learning_rate: 1.0000e-05\n",
      "Epoch 29/50\n",
      "\u001B[1m2083/2083\u001B[0m \u001B[32m━━━━━━━━━━━━━━━━━━━━\u001B[0m\u001B[37m\u001B[0m \u001B[1m12s\u001B[0m 5ms/step - accuracy: 0.9979 - loss: 0.0059 - val_accuracy: 0.9982 - val_loss: 0.0049 - learning_rate: 1.0000e-05\n",
      "Epoch 30/50\n",
      "\u001B[1m2083/2083\u001B[0m \u001B[32m━━━━━━━━━━━━━━━━━━━━\u001B[0m\u001B[37m\u001B[0m \u001B[1m11s\u001B[0m 5ms/step - accuracy: 0.9979 - loss: 0.0059 - val_accuracy: 0.9982 - val_loss: 0.0049 - learning_rate: 1.0000e-05\n",
      "Epoch 31/50\n",
      "\u001B[1m2076/2083\u001B[0m \u001B[32m━━━━━━━━━━━━━━━━━━━\u001B[0m\u001B[37m━\u001B[0m \u001B[1m0s\u001B[0m 5ms/step - accuracy: 0.9979 - loss: 0.0059\n",
      "Epoch 31: ReduceLROnPlateau reducing learning rate to 1.0000000656873453e-06.\n",
      "\u001B[1m2083/2083\u001B[0m \u001B[32m━━━━━━━━━━━━━━━━━━━━\u001B[0m\u001B[37m\u001B[0m \u001B[1m11s\u001B[0m 5ms/step - accuracy: 0.9979 - loss: 0.0059 - val_accuracy: 0.9982 - val_loss: 0.0049 - learning_rate: 1.0000e-05\n",
      "Epoch 32/50\n",
      "\u001B[1m2083/2083\u001B[0m \u001B[32m━━━━━━━━━━━━━━━━━━━━\u001B[0m\u001B[37m\u001B[0m \u001B[1m12s\u001B[0m 6ms/step - accuracy: 0.9979 - loss: 0.0059 - val_accuracy: 0.9982 - val_loss: 0.0050 - learning_rate: 1.0000e-06\n",
      "Epoch 33/50\n",
      "\u001B[1m2083/2083\u001B[0m \u001B[32m━━━━━━━━━━━━━━━━━━━━\u001B[0m\u001B[37m\u001B[0m \u001B[1m12s\u001B[0m 6ms/step - accuracy: 0.9979 - loss: 0.0059 - val_accuracy: 0.9982 - val_loss: 0.0050 - learning_rate: 1.0000e-06\n",
      "Epoch 34/50\n",
      "\u001B[1m2083/2083\u001B[0m \u001B[32m━━━━━━━━━━━━━━━━━━━━\u001B[0m\u001B[37m\u001B[0m \u001B[1m12s\u001B[0m 6ms/step - accuracy: 0.9979 - loss: 0.0059 - val_accuracy: 0.9982 - val_loss: 0.0050 - learning_rate: 1.0000e-06\n",
      "Epoch 35/50\n",
      "\u001B[1m2083/2083\u001B[0m \u001B[32m━━━━━━━━━━━━━━━━━━━━\u001B[0m\u001B[37m\u001B[0m \u001B[1m11s\u001B[0m 5ms/step - accuracy: 0.9979 - loss: 0.0059 - val_accuracy: 0.9982 - val_loss: 0.0050 - learning_rate: 1.0000e-06\n",
      "Epoch 36/50\n",
      "\u001B[1m2082/2083\u001B[0m \u001B[32m━━━━━━━━━━━━━━━━━━━\u001B[0m\u001B[37m━\u001B[0m \u001B[1m0s\u001B[0m 5ms/step - accuracy: 0.9979 - loss: 0.0059\n",
      "Epoch 36: ReduceLROnPlateau reducing learning rate to 1.0000001111620805e-07.\n",
      "\u001B[1m2083/2083\u001B[0m \u001B[32m━━━━━━━━━━━━━━━━━━━━\u001B[0m\u001B[37m\u001B[0m \u001B[1m11s\u001B[0m 5ms/step - accuracy: 0.9979 - loss: 0.0059 - val_accuracy: 0.9982 - val_loss: 0.0050 - learning_rate: 1.0000e-06\n",
      "Epoch 37/50\n",
      "\u001B[1m2083/2083\u001B[0m \u001B[32m━━━━━━━━━━━━━━━━━━━━\u001B[0m\u001B[37m\u001B[0m \u001B[1m11s\u001B[0m 5ms/step - accuracy: 0.9979 - loss: 0.0059 - val_accuracy: 0.9982 - val_loss: 0.0050 - learning_rate: 1.0000e-07\n",
      "Epoch 38/50\n",
      "\u001B[1m2083/2083\u001B[0m \u001B[32m━━━━━━━━━━━━━━━━━━━━\u001B[0m\u001B[37m\u001B[0m \u001B[1m11s\u001B[0m 5ms/step - accuracy: 0.9979 - loss: 0.0059 - val_accuracy: 0.9982 - val_loss: 0.0050 - learning_rate: 1.0000e-07\n",
      "Epoch 39/50\n",
      "\u001B[1m2083/2083\u001B[0m \u001B[32m━━━━━━━━━━━━━━━━━━━━\u001B[0m\u001B[37m\u001B[0m \u001B[1m12s\u001B[0m 6ms/step - accuracy: 0.9979 - loss: 0.0059 - val_accuracy: 0.9982 - val_loss: 0.0050 - learning_rate: 1.0000e-07\n",
      "Epoch 40/50\n",
      "\u001B[1m2083/2083\u001B[0m \u001B[32m━━━━━━━━━━━━━━━━━━━━\u001B[0m\u001B[37m\u001B[0m \u001B[1m12s\u001B[0m 6ms/step - accuracy: 0.9979 - loss: 0.0059 - val_accuracy: 0.9982 - val_loss: 0.0050 - learning_rate: 1.0000e-07\n",
      "Epoch 41/50\n",
      "\u001B[1m2075/2083\u001B[0m \u001B[32m━━━━━━━━━━━━━━━━━━━\u001B[0m\u001B[37m━\u001B[0m \u001B[1m0s\u001B[0m 5ms/step - accuracy: 0.9979 - loss: 0.0059\n",
      "Epoch 41: ReduceLROnPlateau reducing learning rate to 1e-07.\n",
      "\u001B[1m2083/2083\u001B[0m \u001B[32m━━━━━━━━━━━━━━━━━━━━\u001B[0m\u001B[37m\u001B[0m \u001B[1m11s\u001B[0m 5ms/step - accuracy: 0.9979 - loss: 0.0059 - val_accuracy: 0.9982 - val_loss: 0.0050 - learning_rate: 1.0000e-07\n",
      "Epoch 42/50\n",
      "\u001B[1m2083/2083\u001B[0m \u001B[32m━━━━━━━━━━━━━━━━━━━━\u001B[0m\u001B[37m\u001B[0m \u001B[1m11s\u001B[0m 5ms/step - accuracy: 0.9979 - loss: 0.0059 - val_accuracy: 0.9982 - val_loss: 0.0050 - learning_rate: 1.0000e-07\n",
      "Epoch 43/50\n",
      "\u001B[1m2083/2083\u001B[0m \u001B[32m━━━━━━━━━━━━━━━━━━━━\u001B[0m\u001B[37m\u001B[0m \u001B[1m12s\u001B[0m 6ms/step - accuracy: 0.9979 - loss: 0.0059 - val_accuracy: 0.9982 - val_loss: 0.0050 - learning_rate: 1.0000e-07\n",
      "Epoch 44/50\n",
      "\u001B[1m2083/2083\u001B[0m \u001B[32m━━━━━━━━━━━━━━━━━━━━\u001B[0m\u001B[37m\u001B[0m \u001B[1m11s\u001B[0m 5ms/step - accuracy: 0.9979 - loss: 0.0059 - val_accuracy: 0.9982 - val_loss: 0.0050 - learning_rate: 1.0000e-07\n",
      "Epoch 45/50\n",
      "\u001B[1m2083/2083\u001B[0m \u001B[32m━━━━━━━━━━━━━━━━━━━━\u001B[0m\u001B[37m\u001B[0m \u001B[1m13s\u001B[0m 6ms/step - accuracy: 0.9979 - loss: 0.0059 - val_accuracy: 0.9982 - val_loss: 0.0050 - learning_rate: 1.0000e-07\n",
      "Epoch 46/50\n",
      "\u001B[1m2083/2083\u001B[0m \u001B[32m━━━━━━━━━━━━━━━━━━━━\u001B[0m\u001B[37m\u001B[0m \u001B[1m12s\u001B[0m 6ms/step - accuracy: 0.9979 - loss: 0.0059 - val_accuracy: 0.9982 - val_loss: 0.0050 - learning_rate: 1.0000e-07\n",
      "Epoch 47/50\n",
      "\u001B[1m2083/2083\u001B[0m \u001B[32m━━━━━━━━━━━━━━━━━━━━\u001B[0m\u001B[37m\u001B[0m \u001B[1m12s\u001B[0m 6ms/step - accuracy: 0.9979 - loss: 0.0059 - val_accuracy: 0.9982 - val_loss: 0.0050 - learning_rate: 1.0000e-07\n",
      "Epoch 48/50\n",
      "\u001B[1m2083/2083\u001B[0m \u001B[32m━━━━━━━━━━━━━━━━━━━━\u001B[0m\u001B[37m\u001B[0m \u001B[1m12s\u001B[0m 6ms/step - accuracy: 0.9979 - loss: 0.0059 - val_accuracy: 0.9982 - val_loss: 0.0050 - learning_rate: 1.0000e-07\n",
      "Epoch 49/50\n",
      "\u001B[1m2083/2083\u001B[0m \u001B[32m━━━━━━━━━━━━━━━━━━━━\u001B[0m\u001B[37m\u001B[0m \u001B[1m12s\u001B[0m 6ms/step - accuracy: 0.9979 - loss: 0.0059 - val_accuracy: 0.9982 - val_loss: 0.0050 - learning_rate: 1.0000e-07\n",
      "Epoch 50/50\n",
      "\u001B[1m2083/2083\u001B[0m \u001B[32m━━━━━━━━━━━━━━━━━━━━\u001B[0m\u001B[37m\u001B[0m \u001B[1m12s\u001B[0m 6ms/step - accuracy: 0.9979 - loss: 0.0059 - val_accuracy: 0.9982 - val_loss: 0.0050 - learning_rate: 1.0000e-07\n"
     ]
    }
   ],
   "execution_count": 26
  },
  {
   "cell_type": "code",
   "source": [
    "# Geçmişten eğitim ve doğrulama kayıplarını/doğruluklarını çıkarır\n",
    "\n",
    "# test_loss, test_accuracy = model_0.evaluate(X_test_images, y_test)\n",
    "#model_0 modelini test kümesi üzerinde değerlendirir ve kaybı (test_loss) ve doğruluğu (test_accuracy) hesaplar.\n",
    "test_loss, test_accuracy = model_0.evaluate(X_test_images, y_test)\n",
    "\n",
    "#model_0 modelini kullanarak test kümesi görüntüleri için tahminler oluşturur.\n",
    "# y_pred: Modelin tahmin ettiği olasılıkları içeren bir NumPy dizisi.\n",
    "\n",
    "# y_pred_labels: Tahmin edilen sınıf etiketlerini içeren bir NumPy dizisi.\n",
    "# X_test_images: Değerlendirme için kullanılacak test kümesi görüntüleri.\n",
    "# y_test: Değerlendirme için kullanılacak test kümesi hedef değerleri (etiketler).\n",
    "# Test kümesi üzerinde tahminlerde bulnur\n",
    "y_pred = model_0.predict(X_test_images)\n",
    "\n",
    "# # Modelin tahmin ettiği olasılıkları 0 veya 1 değerlerine dönüştürerek sınıf etiketlerine dönüştürür.\n",
    "y_pred_labels = (y_pred > 0.5).astype(int)\n",
    "\n",
    "# #tahmin edilen sınıf etiketleri ve gerçek sınıf etiketleri için hassasiyeti (precision) hesaplar.\n",
    "# precision: Hassasiyet skorunu içeren bir skaler değer.\n",
    "# tahmin edilen sınıf etiketleri ve gerçek sınıf etiketleri için geri çağırmayı (recall) hesaplar.\n",
    "# recall: Geri çağırma skorunu içeren bir skaler değer.\n",
    "#  Tahmin edilen sınıf etiketleri ve gerçek sınıf etiketleri için F1 skorunu hesaplar.\n",
    "# f1: F1 skorunu içeren bir skaler değer.\n",
    "precision = precision_score(y_test, y_pred_labels)\n",
    "recall    = recall_score(y_test, y_pred_labels)\n",
    "f1        = f1_score(y_test, y_pred_labels)\n",
    "\n",
    "# test kümesi üzerindeki kaybı yazdırır.\n",
    "print(f\"Test Kaybı:      {test_loss:.4f}\")\n",
    "\n",
    "# test kümesi üzerindeki doğruluğu yüzdesel olarak yazdırır\n",
    "print(f\"Test Doğruluk:  {test_accuracy*100:.2f}%\")\n",
    "\n",
    "# üzerindeki hassasiyeti yüzdesel olarak yazdırır.\n",
    "print(f\"Test Hassasiyet: {precision*100:.2f}%\")\n",
    "\n",
    "#geri çağırmayı yüzdesel olarak yazdırır.\n",
    "print(f\"Test Geri Çağırma:    {recall*100:.2f}%\")\n",
    "\n",
    "# F1 skorunu yüzdesel olarak yazdırır.\n",
    "print(f\"Test F1 Skor:  {f1*100:.2f}%\")\n"
   ],
   "metadata": {
    "execution": {
     "iopub.status.busy": "2024-04-14T14:00:25.353360Z",
     "iopub.execute_input": "2024-04-14T14:00:25.353670Z",
     "iopub.status.idle": "2024-04-14T14:01:00.824728Z",
     "shell.execute_reply.started": "2024-04-14T14:00:25.353644Z",
     "shell.execute_reply": "2024-04-14T14:01:00.823730Z"
    },
    "trusted": true,
    "ExecuteTime": {
     "end_time": "2024-06-04T01:19:45.369735Z",
     "start_time": "2024-06-04T01:19:20.985965Z"
    }
   },
   "outputs": [
    {
     "name": "stdout",
     "output_type": "stream",
     "text": [
      "\u001B[1m10462/10462\u001B[0m \u001B[32m━━━━━━━━━━━━━━━━━━━━\u001B[0m\u001B[37m\u001B[0m \u001B[1m10s\u001B[0m 911us/step - accuracy: 0.9980 - loss: 0.0054\n",
      "\u001B[1m10462/10462\u001B[0m \u001B[32m━━━━━━━━━━━━━━━━━━━━\u001B[0m\u001B[37m\u001B[0m \u001B[1m10s\u001B[0m 964us/step\n",
      "Test Kaybı:      0.0057\n",
      "Test Doğruluk:  99.80%\n",
      "Test Hassasiyet: 99.11%\n",
      "Test Geri Çağırma:    99.56%\n",
      "Test F1 Skor:  99.34%\n"
     ]
    }
   ],
   "execution_count": 27
  },
  {
   "cell_type": "code",
   "source": [
    "# model_0 modelinin eğitim ve doğrulama kümelerindeki kayıp ve doğruluk eğrilerini çizer. Bu eğriler, modelin eğitim süreci boyunca nasıl performans gösterdiğini görselleştirmeye yardımcı olur.\n",
    "\n",
    "# eğitim kümesi için kayıp değerlerini history_0 değişkeninden alır.\n",
    "train_loss = history_0.history['loss']\n",
    "\n",
    "# doğrulama kümesi için kayıp değerlerini history_0 değişkeninden alır.\n",
    "val_loss   = history_0.history['val_loss']\n",
    "\n",
    "# eğitim kümesi için doğruluk değerlerini history_0 değişkeninden alır.\n",
    "train_acc  = history_0.history['accuracy']\n",
    "\n",
    "# doğrulama kümesi için doğruluk değerlerini history_0 değişkeninden alır.\n",
    "val_acc    = history_0.history['val_accuracy']\n",
    "\n",
    "#  bir figür ve her biri bir eksen içeren bir alt grafik dizisi oluşturur.\n",
    "# Grafik boyutu 10 inç x 12 inç.\n",
    "fig, (ax1, ax2) = plt.subplots(2, 1, figsize=(10, 12))\n",
    "\n",
    "# eğitim kümesi için kayıp değerlerini epoch numaralarına göre ax1 eksenine çizer ve \"Eğitim Kaybı\" etiketini ekler.\n",
    "ax1.plot(range(len(train_loss)), train_loss, label='Eğitim Kaybı')\n",
    "\n",
    "#doğrulama kümesi için kayıp değerlerini epoch numaralarına göre ax1 eksenine çizer ve \"Doğrulama Kaybı\" etiketini ekler.\n",
    "ax1.plot(range(len(val_loss)),   val_loss,   label='Doğrulama Kaybı')\n",
    "\n",
    "# x ekseninin etiketini \"Epoch\" olarak ayarlar.\n",
    "ax1.set_xlabel('Epoch')\n",
    "\n",
    "# y ekseninin etiketini \"Kayıp\" olarak ayarlar.\n",
    "ax1.set_ylabel('Kayıp')\n",
    "\n",
    "#grafiğin başlığını \"İkili Sınıflandırma için Eğitim ve Doğrulama Kaybı\" olarak ayarlar.\n",
    "ax1.set_title('İkili Sınıflandırma için Eğitim ve Doğrulama Kaybı')\n",
    "\n",
    "# grafiğe kılavuz çizgileri ekler.\n",
    "ax1.legend()\n",
    "ax1.grid(True)\n",
    "\n",
    "# Eğitim kümesi için doğruluk değerlerini epoch numaralarına göre ax2 eksenine çizer ve \"Eğitim Doğruluğu\" etiketini ekler.\n",
    "ax2.plot(range(len(train_acc)), train_acc, label='Eğitim Doğruluğu')\n",
    "ax2.plot(range(len(val_acc)),   val_acc,   label='Doğrulama Doğruluğu')\n",
    "\n",
    "# x ekseninin etiketi \"Epoch\"\n",
    "ax2.set_xlabel('Epoch')\n",
    "ax2.set_ylabel('Doğruluk')\n",
    "ax2.set_title('İkili Sınıflandırma için Eğitim ve Doğrulama Doğruluğu')\n",
    "ax2.legend()\n",
    "ax2.grid(True)\n",
    "\n",
    "# layout'u ayarlar\n",
    "plt.tight_layout()\n",
    "\n",
    "# plot'u göstgerir\n",
    "plt.show()"
   ],
   "metadata": {
    "execution": {
     "iopub.status.busy": "2024-04-14T14:01:00.826314Z",
     "iopub.execute_input": "2024-04-14T14:01:00.827150Z",
     "iopub.status.idle": "2024-04-14T14:01:01.535968Z",
     "shell.execute_reply.started": "2024-04-14T14:01:00.827106Z",
     "shell.execute_reply": "2024-04-14T14:01:01.534979Z"
    },
    "trusted": true,
    "ExecuteTime": {
     "end_time": "2024-06-04T01:19:45.680567Z",
     "start_time": "2024-06-04T01:19:45.371745Z"
    }
   },
   "outputs": [
    {
     "data": {
      "text/plain": [
       "<Figure size 1000x1200 with 2 Axes>"
      ],
      "image/png": "[encoded data removed]"
     },
     "metadata": {},
     "output_type": "display_data"
    }
   ],
   "execution_count": 28
  },
  {
   "cell_type": "code",
   "source": [
    "# Çoklu sınıf yapılandırmasını ayarlama\n",
    "\n",
    "# orijinal veri kümesinden (df_data) bir kopya (X) oluştur\n",
    "X = df_data.copy()\n",
    "\n",
    "#Label sütununu yani df_data'nın hedef sütunu kopyadan kaldırır.\n",
    "# modelin eğitim sırasında hedef sütununa erişmemesini sağlar.\n",
    "X = df_data.drop('Label', axis=1)\n",
    "\n",
    "# orijinal veri kümesinden Label hedef değerlerini ayrı bir değişkene kopyalar.\n",
    "y = df_data['Label']\n",
    "\n",
    "# Etiketleri sayısal değerlere dönüştürmek için bir LabelEncoder nesnesi oluşturur.\n",
    "label_encoder = LabelEncoder()\n",
    "\n",
    "# label_encoder nesnesini kullanarak hedef değerleri sayısal değerlere dönüştürür.\n",
    "y_encoded = label_encoder.fit_transform(y)\n",
    "\n",
    "# dönüştürülen hedef değerleri bir pd.Series nesnesine aktarır.\n",
    "y = pd.Series(y_encoded)\n",
    "\n",
    "# Kodlamayı denetle\n",
    "print('Çok Sınıflı Yapılandırma altında Hedef Özelliğin İncelenmesi - y:\\n')\n",
    "\n",
    "# hedef değerleri y'yi özetler\n",
    "y.value_counts()"
   ],
   "metadata": {
    "execution": {
     "iopub.status.busy": "2024-04-14T14:01:01.537452Z",
     "iopub.execute_input": "2024-04-14T14:01:01.537880Z",
     "iopub.status.idle": "2024-04-14T14:01:02.549089Z",
     "shell.execute_reply.started": "2024-04-14T14:01:01.537821Z",
     "shell.execute_reply": "2024-04-14T14:01:02.548069Z"
    },
    "trusted": true,
    "ExecuteTime": {
     "end_time": "2024-06-04T01:19:47.602414Z",
     "start_time": "2024-06-04T01:19:45.682481Z"
    }
   },
   "outputs": [
    {
     "name": "stdout",
     "output_type": "stream",
     "text": [
      "Çok Sınıflı Yapılandırma altında Hedef Özelliğin İncelenmesi - y:\n",
      "\n"
     ]
    },
    {
     "data": {
      "text/plain": [
       "0     1895314\n",
       "4      172846\n",
       "2      128014\n",
       "3       10286\n",
       "7        5931\n",
       "6        5385\n",
       "5        5228\n",
       "11       3219\n",
       "10       1956\n",
       "12       1470\n",
       "1        1437\n",
       "14        652\n",
       "9          36\n",
       "13         21\n",
       "8          11\n",
       "Name: count, dtype: int64"
      ]
     },
     "execution_count": 29,
     "metadata": {},
     "output_type": "execute_result"
    }
   ],
   "execution_count": 29
  },
  {
   "cell_type": "code",
   "source": [
    "# veri kümesindeki dengesizliği görselleştirir.\n",
    "# yukarıdaki çıktıda veri kümesinde sınıf dengesizliği var.\n",
    "\n",
    "# 10 inç x 6 inç figür oluşturur.\n",
    "plt.figure(figsize=(10, 6))\n",
    "\n",
    "# seaborn kütüphanesini kullanarak hedef değişkenin y sayısal değerlerine göre bir çubuk grafik oluştuduk. Ve farklı sınıflara farklı renkler atadık\n",
    "sns.countplot(y=y, palette='Paired')\n",
    "plt.title('Hedef Değişkenin Dağılımı')\n",
    "plt.xlabel('Kodlanmış Hedef Sınıf')\n",
    "plt.ylabel('Sayım')\n",
    "plt.show()\n",
    "\n",
    "# Her bir sınıfın sayısını ve oranını hesaplar.\n",
    "class_counts = y.value_counts()\n",
    "class_ratios = class_counts / len(y)\n",
    "\n",
    "# Her sınıfın oranını yazdırırr.\n",
    "# sınıf etiketi 10'dan küçükse, etiket ve oranın daha fazla ondalık basamaklı olarak yazdırılmasını sağlar.\n",
    "# 10'dan büyükse, etiket ve oranın daha az ondalık basamaklı olarak yazdırır.\n",
    "for label, ratio in class_ratios.items():\n",
    "    if label < 10:\n",
    "        print(f\"Sınıf {label}  oran: {ratio*100:.4f}%\")\n",
    "    else:\n",
    "        print(f\"Sınıf {label} oran: {ratio*100:.4f}%\")\n",
    "        "
   ],
   "metadata": {
    "execution": {
     "iopub.status.busy": "2024-04-14T14:01:02.550271Z",
     "iopub.execute_input": "2024-04-14T14:01:02.550685Z",
     "iopub.status.idle": "2024-04-14T14:01:03.311235Z",
     "shell.execute_reply.started": "2024-04-14T14:01:02.550656Z",
     "shell.execute_reply": "2024-04-14T14:01:03.310295Z"
    },
    "trusted": true,
    "ExecuteTime": {
     "end_time": "2024-06-04T01:19:50.869213Z",
     "start_time": "2024-06-04T01:19:47.604390Z"
    }
   },
   "outputs": [
    {
     "name": "stderr",
     "output_type": "stream",
     "text": [
      "C:\\Users\\abdulkadir\\AppData\\Local\\Temp\\ipykernel_22348\\1441108514.py:8: FutureWarning: \n",
      "\n",
      "Passing `palette` without assigning `hue` is deprecated and will be removed in v0.14.0. Assign the `y` variable to `hue` and set `legend=False` for the same effect.\n",
      "\n",
      "  sns.countplot(y=y, palette='Paired')\n"
     ]
    },
    {
     "data": {
      "text/plain": [
       "<Figure size 1000x600 with 1 Axes>"
      ],
      "image/png": "[encoded data removed]"
     },
     "metadata": {},
     "output_type": "display_data"
    },
    {
     "name": "stdout",
     "output_type": "stream",
     "text": [
      "Sınıf 0  oran: 84.9229%\n",
      "Sınıf 4  oran: 7.7447%\n",
      "Sınıf 2  oran: 5.7359%\n",
      "Sınıf 3  oran: 0.4609%\n",
      "Sınıf 7  oran: 0.2657%\n",
      "Sınıf 6  oran: 0.2413%\n",
      "Sınıf 5  oran: 0.2342%\n",
      "Sınıf 11 oran: 0.1442%\n",
      "Sınıf 10 oran: 0.0876%\n",
      "Sınıf 12 oran: 0.0659%\n",
      "Sınıf 1  oran: 0.0644%\n",
      "Sınıf 14 oran: 0.0292%\n",
      "Sınıf 9  oran: 0.0016%\n",
      "Sınıf 13 oran: 0.0009%\n",
      "Sınıf 8  oran: 0.0005%\n"
     ]
    }
   ],
   "execution_count": 30
  },
  {
   "cell_type": "code",
   "source": [
    "\n",
    "#Çok sınıflı yapılandırma altında 75-10-15 (%)\n",
    "\n",
    "X_train, X_val, X_test, y_train, y_val, y_test = extractAllSets(X, y, 0.75, 0.10, 0.15)  #verileri %75 eğitim, %10 doğrulama, %15 test setlerine ayırıyoruz\n",
    "\n",
    "# Tüm setleri liste biçiminde düzenleme\n",
    "original_data = [X_train, X_val, X_test, y_train, y_val, y_test] # ayrılan veriler liste halinde sakla"
   ],
   "metadata": {
    "execution": {
     "iopub.status.busy": "2024-04-14T14:01:03.312750Z",
     "iopub.execute_input": "2024-04-14T14:01:03.313205Z",
     "iopub.status.idle": "2024-04-14T14:01:05.753611Z",
     "shell.execute_reply.started": "2024-04-14T14:01:03.313165Z",
     "shell.execute_reply": "2024-04-14T14:01:05.752707Z"
    },
    "trusted": true,
    "ExecuteTime": {
     "end_time": "2024-06-04T01:19:53.043149Z",
     "start_time": "2024-06-04T01:19:50.870745Z"
    }
   },
   "outputs": [],
   "execution_count": 31
  },
  {
   "cell_type": "code",
   "source": [
    "# Data Scaling (Veri Ölçekleme)\n",
    "\n",
    "# verileri tekdüze dağılımla başlatın\n",
    "quantile_transformer = QuantileTransformer(n_quantiles=10**4, output_distribution='uniform')\n",
    "\n",
    "# Eğitim verilerini sığdırıp ve dönüştür\n",
    "X_train_transformed = quantile_transformer.fit_transform(X_train)\n",
    "\n",
    "# Aynı dönüştürücüyü kullanarak doğrulama ve test verilerini dönüştürün\n",
    "X_val_transformed  = quantile_transformer.transform(X_val)\n",
    "X_test_transformed = quantile_transformer.transform(X_test)\n",
    "\n",
    "# Dönüştürülmüş verileri liste olarak düzenleyin\n",
    "scaled_data = [X_train_transformed, X_val_transformed, X_test_transformed, y_train, y_val, y_test]"
   ],
   "metadata": {
    "execution": {
     "iopub.status.busy": "2024-04-14T14:01:05.754806Z",
     "iopub.execute_input": "2024-04-14T14:01:05.755143Z",
     "iopub.status.idle": "2024-04-14T14:01:42.193621Z",
     "shell.execute_reply.started": "2024-04-14T14:01:05.755115Z",
     "shell.execute_reply": "2024-04-14T14:01:42.192367Z"
    },
    "trusted": true,
    "ExecuteTime": {
     "end_time": "2024-06-04T01:20:14.368387Z",
     "start_time": "2024-06-04T01:19:53.045660Z"
    }
   },
   "outputs": [],
   "execution_count": 32
  },
  {
   "cell_type": "code",
   "source": [
    "\n",
    "\n",
    "# Gri tonlamalı görüntülere dönüştürme\n",
    "\n",
    "# Tab2Img modelini tanımlayın\n",
    "model_tab2img = Tab2Img() # tablo verisini görüntüye dönüştürüyor\n",
    "\n",
    "\n",
    "# Eğitim verilerini dönüştürün\n",
    "X_train_images = model_tab2img.fit_transform(X_train_transformed, y_train.values) #Tablo verisini (9x9) numpy dizisine dönüştürür\n",
    "\n",
    "# Doğrulama ve test verilerini dönüştürün (uygun modeli kullanarak)\n",
    "X_val_images  = model_tab2img.transform(X_val_transformed)\n",
    "X_test_images = model_tab2img.transform(X_test_transformed) #Doğrulama ve test verilerini (9x9) numpy dizilerine dönüştürür\n",
    "\n",
    "\n",
    "# Gri Tonlama Dönüşümü - CNN girişi için görüntü verilerini yeniden şekillendirin\n",
    "X_train_images = X_train_images.reshape(-1, 9, 9, 1)\n",
    "X_val_images   = X_val_images.reshape(  -1, 9, 9, 1)\n",
    "X_test_images  = X_test_images.reshape( -1, 9, 9, 1) #(9x9) dizilerini (9x9x1) gri tonlamalı görüntülere dönüştürür\n",
    "\n",
    "# Bir örneği görselleştirin\n",
    "plt.imshow(X_train_images[0])\n",
    "plt.colorbar()\n",
    "plt.show() # İlk eğitim verisi örneğini görüntüle."
   ],
   "metadata": {
    "execution": {
     "iopub.status.busy": "2024-04-14T14:01:42.195130Z",
     "iopub.execute_input": "2024-04-14T14:01:42.195562Z",
     "iopub.status.idle": "2024-04-14T14:01:47.209097Z",
     "shell.execute_reply.started": "2024-04-14T14:01:42.195505Z",
     "shell.execute_reply": "2024-04-14T14:01:47.208069Z"
    },
    "trusted": true,
    "ExecuteTime": {
     "end_time": "2024-06-04T01:20:20.933866Z",
     "start_time": "2024-06-04T01:20:14.369921Z"
    }
   },
   "outputs": [
    {
     "data": {
      "text/plain": [
       "<Figure size 640x480 with 2 Axes>"
      ],
      "image/png": "[encoded data removed]"
     },
     "metadata": {},
     "output_type": "display_data"
    }
   ],
   "execution_count": 33
  },
  {
   "cell_type": "code",
   "source": [
    "\n",
    "# Model mimarisini tanımlayın\n",
    "\n",
    "# Başlatıcıların Tanımlanması\n",
    "conv_initializer   = HeNormal(seed=seed_pi) # konvolüsyon katmanlarının ağırlıklarını başlatmak için HeNormal başlatıcısı kullanıyoruz.\n",
    "dense_initializer  = HeUniform(seed=seed_pi) # yoğun (Dense) katmanların ağırlıklarını başlatmak için HeUniform başlatıcısını kullanıyoruz. \n",
    "output_initializer = GlorotUniform(seed=seed_pi) # çıktı katmanının ağırlıklarını başlatmak için GlorotUniform başlatıcısını kullanır.\n",
    "\n",
    "# Çıktı katmanının ayarlanması\n",
    "num_classes = len(class_counts) # modelin son katmanındaki sınıf (nöron) sayısını belirler\n",
    "\n",
    "#modelin tanımlanması\n",
    "model_1 = Sequential([ #Katmanları sırayla ekler\n",
    "    Input(shape=(9, 9, 1)), #modelin girdi katmanını tanımlar. 9x9 boyutunda 1 girdili(gri tonlamalı) görüntü\n",
    "    Conv2D(32, kernel_size=(3, 3), activation='relu', kernel_initializer=conv_initializer), #32 filtreli, 3x3 konvolüsyon katmanı, ReLU aktivasyonu\n",
    "    MaxPooling2D(pool_size=(2, 2)), #2x2 havuzlama katmanı\n",
    "    Flatten(), #girdiyi düzleştiriyor\n",
    "    Dense(128, activation='relu', kernel_initializer=dense_initializer), #128 nöronlu yoğun katman, ReLU aktivasyonu\n",
    "    Dense(num_classes, activation='softmax', kernel_initializer=output_initializer) # sınıf sayısı kadar nöron, softmax aktivasyonu.\n",
    "])\n",
    "\n",
    "# Model özetini yazdırma\n",
    "model_1.summary() # katmanları ve parametreleri özetler"
   ],
   "metadata": {
    "execution": {
     "iopub.status.busy": "2024-04-14T14:01:47.210645Z",
     "iopub.execute_input": "2024-04-14T14:01:47.211093Z",
     "iopub.status.idle": "2024-04-14T14:01:47.265555Z",
     "shell.execute_reply.started": "2024-04-14T14:01:47.211058Z",
     "shell.execute_reply": "2024-04-14T14:01:47.264688Z"
    },
    "trusted": true,
    "ExecuteTime": {
     "end_time": "2024-06-04T01:20:21.056034Z",
     "start_time": "2024-06-04T01:20:20.935365Z"
    }
   },
   "outputs": [
    {
     "data": {
      "text/plain": [
       "\u001B[1mModel: \"sequential_1\"\u001B[0m\n"
      ],
      "text/html": [
       "<pre style=\"white-space:pre;overflow-x:auto;line-height:normal;font-family:Menlo,'DejaVu Sans Mono',consolas,'Courier New',monospace\"><span style=\"font-weight: bold\">Model: \"sequential_1\"</span>\n",
       "</pre>\n"
      ]
     },
     "metadata": {},
     "output_type": "display_data"
    },
    {
     "data": {
      "text/plain": [
       "┏━━━━━━━━━━━━━━━━━━━━━━━━━━━━━━━━━┳━━━━━━━━━━━━━━━━━━━━━━━━┳━━━━━━━━━━━━━━━┓\n",
       "┃\u001B[1m \u001B[0m\u001B[1mLayer (type)                   \u001B[0m\u001B[1m \u001B[0m┃\u001B[1m \u001B[0m\u001B[1mOutput Shape          \u001B[0m\u001B[1m \u001B[0m┃\u001B[1m \u001B[0m\u001B[1m      Param #\u001B[0m\u001B[1m \u001B[0m┃\n",
       "┡━━━━━━━━━━━━━━━━━━━━━━━━━━━━━━━━━╇━━━━━━━━━━━━━━━━━━━━━━━━╇━━━━━━━━━━━━━━━┩\n",
       "│ conv2d_1 (\u001B[38;5;33mConv2D\u001B[0m)               │ (\u001B[38;5;45mNone\u001B[0m, \u001B[38;5;34m7\u001B[0m, \u001B[38;5;34m7\u001B[0m, \u001B[38;5;34m32\u001B[0m)       │           \u001B[38;5;34m320\u001B[0m │\n",
       "├─────────────────────────────────┼────────────────────────┼───────────────┤\n",
       "│ max_pooling2d_1 (\u001B[38;5;33mMaxPooling2D\u001B[0m)  │ (\u001B[38;5;45mNone\u001B[0m, \u001B[38;5;34m3\u001B[0m, \u001B[38;5;34m3\u001B[0m, \u001B[38;5;34m32\u001B[0m)       │             \u001B[38;5;34m0\u001B[0m │\n",
       "├─────────────────────────────────┼────────────────────────┼───────────────┤\n",
       "│ flatten_1 (\u001B[38;5;33mFlatten\u001B[0m)             │ (\u001B[38;5;45mNone\u001B[0m, \u001B[38;5;34m288\u001B[0m)            │             \u001B[38;5;34m0\u001B[0m │\n",
       "├─────────────────────────────────┼────────────────────────┼───────────────┤\n",
       "│ dense_2 (\u001B[38;5;33mDense\u001B[0m)                 │ (\u001B[38;5;45mNone\u001B[0m, \u001B[38;5;34m128\u001B[0m)            │        \u001B[38;5;34m36,992\u001B[0m │\n",
       "├─────────────────────────────────┼────────────────────────┼───────────────┤\n",
       "│ dense_3 (\u001B[38;5;33mDense\u001B[0m)                 │ (\u001B[38;5;45mNone\u001B[0m, \u001B[38;5;34m15\u001B[0m)             │         \u001B[38;5;34m1,935\u001B[0m │\n",
       "└─────────────────────────────────┴────────────────────────┴───────────────┘\n"
      ],
      "text/html": [
       "<pre style=\"white-space:pre;overflow-x:auto;line-height:normal;font-family:Menlo,'DejaVu Sans Mono',consolas,'Courier New',monospace\">┏━━━━━━━━━━━━━━━━━━━━━━━━━━━━━━━━━┳━━━━━━━━━━━━━━━━━━━━━━━━┳━━━━━━━━━━━━━━━┓\n",
       "┃<span style=\"font-weight: bold\"> Layer (type)                    </span>┃<span style=\"font-weight: bold\"> Output Shape           </span>┃<span style=\"font-weight: bold\">       Param # </span>┃\n",
       "┡━━━━━━━━━━━━━━━━━━━━━━━━━━━━━━━━━╇━━━━━━━━━━━━━━━━━━━━━━━━╇━━━━━━━━━━━━━━━┩\n",
       "│ conv2d_1 (<span style=\"color: #0087ff; text-decoration-color: #0087ff\">Conv2D</span>)               │ (<span style=\"color: #00d7ff; text-decoration-color: #00d7ff\">None</span>, <span style=\"color: #00af00; text-decoration-color: #00af00\">7</span>, <span style=\"color: #00af00; text-decoration-color: #00af00\">7</span>, <span style=\"color: #00af00; text-decoration-color: #00af00\">32</span>)       │           <span style=\"color: #00af00; text-decoration-color: #00af00\">320</span> │\n",
       "├─────────────────────────────────┼────────────────────────┼───────────────┤\n",
       "│ max_pooling2d_1 (<span style=\"color: #0087ff; text-decoration-color: #0087ff\">MaxPooling2D</span>)  │ (<span style=\"color: #00d7ff; text-decoration-color: #00d7ff\">None</span>, <span style=\"color: #00af00; text-decoration-color: #00af00\">3</span>, <span style=\"color: #00af00; text-decoration-color: #00af00\">3</span>, <span style=\"color: #00af00; text-decoration-color: #00af00\">32</span>)       │             <span style=\"color: #00af00; text-decoration-color: #00af00\">0</span> │\n",
       "├─────────────────────────────────┼────────────────────────┼───────────────┤\n",
       "│ flatten_1 (<span style=\"color: #0087ff; text-decoration-color: #0087ff\">Flatten</span>)             │ (<span style=\"color: #00d7ff; text-decoration-color: #00d7ff\">None</span>, <span style=\"color: #00af00; text-decoration-color: #00af00\">288</span>)            │             <span style=\"color: #00af00; text-decoration-color: #00af00\">0</span> │\n",
       "├─────────────────────────────────┼────────────────────────┼───────────────┤\n",
       "│ dense_2 (<span style=\"color: #0087ff; text-decoration-color: #0087ff\">Dense</span>)                 │ (<span style=\"color: #00d7ff; text-decoration-color: #00d7ff\">None</span>, <span style=\"color: #00af00; text-decoration-color: #00af00\">128</span>)            │        <span style=\"color: #00af00; text-decoration-color: #00af00\">36,992</span> │\n",
       "├─────────────────────────────────┼────────────────────────┼───────────────┤\n",
       "│ dense_3 (<span style=\"color: #0087ff; text-decoration-color: #0087ff\">Dense</span>)                 │ (<span style=\"color: #00d7ff; text-decoration-color: #00d7ff\">None</span>, <span style=\"color: #00af00; text-decoration-color: #00af00\">15</span>)             │         <span style=\"color: #00af00; text-decoration-color: #00af00\">1,935</span> │\n",
       "└─────────────────────────────────┴────────────────────────┴───────────────┘\n",
       "</pre>\n"
      ]
     },
     "metadata": {},
     "output_type": "display_data"
    },
    {
     "data": {
      "text/plain": [
       "\u001B[1m Total params: \u001B[0m\u001B[38;5;34m39,247\u001B[0m (153.31 KB)\n"
      ],
      "text/html": [
       "<pre style=\"white-space:pre;overflow-x:auto;line-height:normal;font-family:Menlo,'DejaVu Sans Mono',consolas,'Courier New',monospace\"><span style=\"font-weight: bold\"> Total params: </span><span style=\"color: #00af00; text-decoration-color: #00af00\">39,247</span> (153.31 KB)\n",
       "</pre>\n"
      ]
     },
     "metadata": {},
     "output_type": "display_data"
    },
    {
     "data": {
      "text/plain": [
       "\u001B[1m Trainable params: \u001B[0m\u001B[38;5;34m39,247\u001B[0m (153.31 KB)\n"
      ],
      "text/html": [
       "<pre style=\"white-space:pre;overflow-x:auto;line-height:normal;font-family:Menlo,'DejaVu Sans Mono',consolas,'Courier New',monospace\"><span style=\"font-weight: bold\"> Trainable params: </span><span style=\"color: #00af00; text-decoration-color: #00af00\">39,247</span> (153.31 KB)\n",
       "</pre>\n"
      ]
     },
     "metadata": {},
     "output_type": "display_data"
    },
    {
     "data": {
      "text/plain": [
       "\u001B[1m Non-trainable params: \u001B[0m\u001B[38;5;34m0\u001B[0m (0.00 B)\n"
      ],
      "text/html": [
       "<pre style=\"white-space:pre;overflow-x:auto;line-height:normal;font-family:Menlo,'DejaVu Sans Mono',consolas,'Courier New',monospace\"><span style=\"font-weight: bold\"> Non-trainable params: </span><span style=\"color: #00af00; text-decoration-color: #00af00\">0</span> (0.00 B)\n",
       "</pre>\n"
      ]
     },
     "metadata": {},
     "output_type": "display_data"
    }
   ],
   "execution_count": 34
  },
  {
   "cell_type": "code",
   "source": [
    "# Öğrenme Oranı Sceduler ve Derleme\n",
    "\n",
    "\n",
    "# ReduceLROnPlateau zamanlayıcısını tanımlanması, LR:Öğrenme Oranı\n",
    "reduce_lr = ReduceLROnPlateau( \n",
    "    monitor='val_accuracy',    # doğrulama doğruluğunu izler. Eğer doğrulama doğruluğu gelişmezse, öğrenme oranını düşürür.\n",
    "    patience= 5,               # modelin doğrulama doğruluğu gelişmeden önce kaç epoch boyunca beklemesi gerektiğini belirtir.\n",
    "    min_lr= 1e-07,             #  Minimum öğrenme oranı (deafault değeri=0.0001)\n",
    "    verbose=1,                 # Öğrenme oranı düşürüldüğünde ayrıntılı çıktı sağlar\n",
    "    factor= 0.1)               # Öğrenme oranını, doğrulama doğruluğu gelişmediğinde, belirlenen faktörle çarparak azaltır.   \n",
    "\n",
    "# \n",
    "model_1.compile(optimizer='adam', #  Adam optimizasyon algoritması kullanılarak modeli optimize eder.\n",
    "                loss='sparse_categorical_crossentropy', # Kayıp fonksiyonu olarak seyrek kategorik çapraz entropi kullanılır.\n",
    "                metrics=['accuracy']) # Modelin performansını ölçmek için doğruluk metriğini kullanır."
   ],
   "metadata": {
    "execution": {
     "iopub.status.busy": "2024-04-14T14:01:47.269666Z",
     "iopub.execute_input": "2024-04-14T14:01:47.269963Z",
     "iopub.status.idle": "2024-04-14T14:01:47.280018Z",
     "shell.execute_reply.started": "2024-04-14T14:01:47.269922Z",
     "shell.execute_reply": "2024-04-14T14:01:47.279092Z"
    },
    "trusted": true,
    "ExecuteTime": {
     "end_time": "2024-06-04T01:30:48.768358Z",
     "start_time": "2024-06-04T01:30:48.761826Z"
    }
   },
   "outputs": [],
   "execution_count": 40
  },
  {
   "cell_type": "markdown",
   "source": "*Batch size: 1024 is optimal!*",
   "metadata": {}
  },
  {
   "cell_type": "code",
   "source": [
    "#Modeli eğitim verileri üzerinde eğitmek.\n",
    "\n",
    "#X_train_images ve y_train: Eğitim verisi ve etiketler.\n",
    "#validation_data=(X_val_images, y_val): Doğrulama verisi ve etiketler.\n",
    "#epochs=100: 100 epoch boyunca eğitim yapacak.\n",
    "#batch_size=1024: Her adımda 1024 örnek kullanılacak.\n",
    "#callbacks=[reduce_lr]: Öğrenme hızını dinamik olarak ayarlayan callback.\n",
    "history_1  = model_1.fit(X_train_images, y_train, validation_data=(X_val_images, y_val), epochs=50, \n",
    "    batch_size=1024, callbacks=[reduce_lr])"
   ],
   "metadata": {
    "execution": {
     "iopub.status.busy": "2024-04-14T14:01:47.282107Z",
     "iopub.execute_input": "2024-04-14T14:01:47.282379Z",
     "iopub.status.idle": "2024-04-14T14:04:59.779166Z",
     "shell.execute_reply.started": "2024-04-14T14:01:47.282356Z",
     "shell.execute_reply": "2024-04-14T14:04:59.778380Z"
    },
    "trusted": true,
    "ExecuteTime": {
     "end_time": "2024-06-04T01:29:19.891208Z",
     "start_time": "2024-06-04T01:20:21.073435Z"
    }
   },
   "outputs": [
    {
     "name": "stdout",
     "output_type": "stream",
     "text": [
      "Epoch 1/50\n",
      "\u001B[1m1635/1635\u001B[0m \u001B[32m━━━━━━━━━━━━━━━━━━━━\u001B[0m\u001B[37m\u001B[0m \u001B[1m12s\u001B[0m 6ms/step - accuracy: 0.9566 - loss: 0.1782 - val_accuracy: 0.9937 - val_loss: 0.0262 - learning_rate: 0.0010\n",
      "Epoch 2/50\n",
      "\u001B[1m1635/1635\u001B[0m \u001B[32m━━━━━━━━━━━━━━━━━━━━\u001B[0m\u001B[37m\u001B[0m \u001B[1m10s\u001B[0m 6ms/step - accuracy: 0.9944 - loss: 0.0226 - val_accuracy: 0.9948 - val_loss: 0.0193 - learning_rate: 0.0010\n",
      "Epoch 3/50\n",
      "\u001B[1m1635/1635\u001B[0m \u001B[32m━━━━━━━━━━━━━━━━━━━━\u001B[0m\u001B[37m\u001B[0m \u001B[1m10s\u001B[0m 6ms/step - accuracy: 0.9954 - loss: 0.0174 - val_accuracy: 0.9957 - val_loss: 0.0161 - learning_rate: 0.0010\n",
      "Epoch 4/50\n",
      "\u001B[1m1635/1635\u001B[0m \u001B[32m━━━━━━━━━━━━━━━━━━━━\u001B[0m\u001B[37m\u001B[0m \u001B[1m10s\u001B[0m 6ms/step - accuracy: 0.9960 - loss: 0.0146 - val_accuracy: 0.9961 - val_loss: 0.0139 - learning_rate: 0.0010\n",
      "Epoch 5/50\n",
      "\u001B[1m1635/1635\u001B[0m \u001B[32m━━━━━━━━━━━━━━━━━━━━\u001B[0m\u001B[37m\u001B[0m \u001B[1m9s\u001B[0m 6ms/step - accuracy: 0.9965 - loss: 0.0128 - val_accuracy: 0.9965 - val_loss: 0.0126 - learning_rate: 0.0010\n",
      "Epoch 6/50\n",
      "\u001B[1m1635/1635\u001B[0m \u001B[32m━━━━━━━━━━━━━━━━━━━━\u001B[0m\u001B[37m\u001B[0m \u001B[1m10s\u001B[0m 6ms/step - accuracy: 0.9967 - loss: 0.0116 - val_accuracy: 0.9968 - val_loss: 0.0113 - learning_rate: 0.0010\n",
      "Epoch 7/50\n",
      "\u001B[1m1635/1635\u001B[0m \u001B[32m━━━━━━━━━━━━━━━━━━━━\u001B[0m\u001B[37m\u001B[0m \u001B[1m10s\u001B[0m 6ms/step - accuracy: 0.9970 - loss: 0.0108 - val_accuracy: 0.9970 - val_loss: 0.0106 - learning_rate: 0.0010\n",
      "Epoch 8/50\n",
      "\u001B[1m1635/1635\u001B[0m \u001B[32m━━━━━━━━━━━━━━━━━━━━\u001B[0m\u001B[37m\u001B[0m \u001B[1m10s\u001B[0m 6ms/step - accuracy: 0.9971 - loss: 0.0102 - val_accuracy: 0.9972 - val_loss: 0.0102 - learning_rate: 0.0010\n",
      "Epoch 9/50\n",
      "\u001B[1m1635/1635\u001B[0m \u001B[32m━━━━━━━━━━━━━━━━━━━━\u001B[0m\u001B[37m\u001B[0m \u001B[1m9s\u001B[0m 6ms/step - accuracy: 0.9972 - loss: 0.0097 - val_accuracy: 0.9972 - val_loss: 0.0099 - learning_rate: 0.0010\n",
      "Epoch 10/50\n",
      "\u001B[1m1635/1635\u001B[0m \u001B[32m━━━━━━━━━━━━━━━━━━━━\u001B[0m\u001B[37m\u001B[0m \u001B[1m9s\u001B[0m 6ms/step - accuracy: 0.9973 - loss: 0.0093 - val_accuracy: 0.9973 - val_loss: 0.0097 - learning_rate: 0.0010\n",
      "Epoch 11/50\n",
      "\u001B[1m1635/1635\u001B[0m \u001B[32m━━━━━━━━━━━━━━━━━━━━\u001B[0m\u001B[37m\u001B[0m \u001B[1m10s\u001B[0m 6ms/step - accuracy: 0.9974 - loss: 0.0090 - val_accuracy: 0.9973 - val_loss: 0.0093 - learning_rate: 0.0010\n",
      "Epoch 12/50\n",
      "\u001B[1m1635/1635\u001B[0m \u001B[32m━━━━━━━━━━━━━━━━━━━━\u001B[0m\u001B[37m\u001B[0m \u001B[1m11s\u001B[0m 7ms/step - accuracy: 0.9974 - loss: 0.0088 - val_accuracy: 0.9974 - val_loss: 0.0090 - learning_rate: 0.0010\n",
      "Epoch 13/50\n",
      "\u001B[1m1635/1635\u001B[0m \u001B[32m━━━━━━━━━━━━━━━━━━━━\u001B[0m\u001B[37m\u001B[0m \u001B[1m10s\u001B[0m 6ms/step - accuracy: 0.9975 - loss: 0.0085 - val_accuracy: 0.9975 - val_loss: 0.0088 - learning_rate: 0.0010\n",
      "Epoch 14/50\n",
      "\u001B[1m1635/1635\u001B[0m \u001B[32m━━━━━━━━━━━━━━━━━━━━\u001B[0m\u001B[37m\u001B[0m \u001B[1m10s\u001B[0m 6ms/step - accuracy: 0.9976 - loss: 0.0083 - val_accuracy: 0.9975 - val_loss: 0.0087 - learning_rate: 0.0010\n",
      "Epoch 15/50\n",
      "\u001B[1m1635/1635\u001B[0m \u001B[32m━━━━━━━━━━━━━━━━━━━━\u001B[0m\u001B[37m\u001B[0m \u001B[1m10s\u001B[0m 6ms/step - accuracy: 0.9976 - loss: 0.0081 - val_accuracy: 0.9976 - val_loss: 0.0084 - learning_rate: 0.0010\n",
      "Epoch 16/50\n",
      "\u001B[1m1635/1635\u001B[0m \u001B[32m━━━━━━━━━━━━━━━━━━━━\u001B[0m\u001B[37m\u001B[0m \u001B[1m11s\u001B[0m 7ms/step - accuracy: 0.9976 - loss: 0.0079 - val_accuracy: 0.9976 - val_loss: 0.0081 - learning_rate: 0.0010\n",
      "Epoch 17/50\n",
      "\u001B[1m1635/1635\u001B[0m \u001B[32m━━━━━━━━━━━━━━━━━━━━\u001B[0m\u001B[37m\u001B[0m \u001B[1m9s\u001B[0m 6ms/step - accuracy: 0.9976 - loss: 0.0077 - val_accuracy: 0.9976 - val_loss: 0.0080 - learning_rate: 0.0010\n",
      "Epoch 18/50\n",
      "\u001B[1m1635/1635\u001B[0m \u001B[32m━━━━━━━━━━━━━━━━━━━━\u001B[0m\u001B[37m\u001B[0m \u001B[1m9s\u001B[0m 6ms/step - accuracy: 0.9977 - loss: 0.0076 - val_accuracy: 0.9976 - val_loss: 0.0078 - learning_rate: 0.0010\n",
      "Epoch 19/50\n",
      "\u001B[1m1635/1635\u001B[0m \u001B[32m━━━━━━━━━━━━━━━━━━━━\u001B[0m\u001B[37m\u001B[0m \u001B[1m9s\u001B[0m 5ms/step - accuracy: 0.9977 - loss: 0.0075 - val_accuracy: 0.9976 - val_loss: 0.0077 - learning_rate: 0.0010\n",
      "Epoch 20/50\n",
      "\u001B[1m1635/1635\u001B[0m \u001B[32m━━━━━━━━━━━━━━━━━━━━\u001B[0m\u001B[37m\u001B[0m \u001B[1m9s\u001B[0m 5ms/step - accuracy: 0.9977 - loss: 0.0073 - val_accuracy: 0.9977 - val_loss: 0.0076 - learning_rate: 0.0010\n",
      "Epoch 21/50\n",
      "\u001B[1m1627/1635\u001B[0m \u001B[32m━━━━━━━━━━━━━━━━━━━\u001B[0m\u001B[37m━\u001B[0m \u001B[1m0s\u001B[0m 6ms/step - accuracy: 0.9978 - loss: 0.0072\n",
      "Epoch 21: ReduceLROnPlateau reducing learning rate to 0.00010000000474974513.\n",
      "\u001B[1m1635/1635\u001B[0m \u001B[32m━━━━━━━━━━━━━━━━━━━━\u001B[0m\u001B[37m\u001B[0m \u001B[1m10s\u001B[0m 6ms/step - accuracy: 0.9978 - loss: 0.0072 - val_accuracy: 0.9977 - val_loss: 0.0075 - learning_rate: 0.0010\n",
      "Epoch 22/50\n",
      "\u001B[1m1635/1635\u001B[0m \u001B[32m━━━━━━━━━━━━━━━━━━━━\u001B[0m\u001B[37m\u001B[0m \u001B[1m10s\u001B[0m 6ms/step - accuracy: 0.9980 - loss: 0.0063 - val_accuracy: 0.9978 - val_loss: 0.0066 - learning_rate: 1.0000e-04\n",
      "Epoch 23/50\n",
      "\u001B[1m1635/1635\u001B[0m \u001B[32m━━━━━━━━━━━━━━━━━━━━\u001B[0m\u001B[37m\u001B[0m \u001B[1m11s\u001B[0m 7ms/step - accuracy: 0.9980 - loss: 0.0061 - val_accuracy: 0.9978 - val_loss: 0.0066 - learning_rate: 1.0000e-04\n",
      "Epoch 24/50\n",
      "\u001B[1m1635/1635\u001B[0m \u001B[32m━━━━━━━━━━━━━━━━━━━━\u001B[0m\u001B[37m\u001B[0m \u001B[1m11s\u001B[0m 7ms/step - accuracy: 0.9980 - loss: 0.0060 - val_accuracy: 0.9978 - val_loss: 0.0065 - learning_rate: 1.0000e-04\n",
      "Epoch 25/50\n",
      "\u001B[1m1635/1635\u001B[0m \u001B[32m━━━━━━━━━━━━━━━━━━━━\u001B[0m\u001B[37m\u001B[0m \u001B[1m10s\u001B[0m 6ms/step - accuracy: 0.9980 - loss: 0.0060 - val_accuracy: 0.9978 - val_loss: 0.0065 - learning_rate: 1.0000e-04\n",
      "Epoch 26/50\n",
      "\u001B[1m1635/1635\u001B[0m \u001B[32m━━━━━━━━━━━━━━━━━━━━\u001B[0m\u001B[37m\u001B[0m \u001B[1m11s\u001B[0m 7ms/step - accuracy: 0.9980 - loss: 0.0059 - val_accuracy: 0.9978 - val_loss: 0.0065 - learning_rate: 1.0000e-04\n",
      "Epoch 27/50\n",
      "\u001B[1m1629/1635\u001B[0m \u001B[32m━━━━━━━━━━━━━━━━━━━\u001B[0m\u001B[37m━\u001B[0m \u001B[1m0s\u001B[0m 6ms/step - accuracy: 0.9980 - loss: 0.0059\n",
      "Epoch 27: ReduceLROnPlateau reducing learning rate to 1.0000000474974514e-05.\n",
      "\u001B[1m1635/1635\u001B[0m \u001B[32m━━━━━━━━━━━━━━━━━━━━\u001B[0m\u001B[37m\u001B[0m \u001B[1m10s\u001B[0m 6ms/step - accuracy: 0.9980 - loss: 0.0059 - val_accuracy: 0.9978 - val_loss: 0.0064 - learning_rate: 1.0000e-04\n",
      "Epoch 28/50\n",
      "\u001B[1m1635/1635\u001B[0m \u001B[32m━━━━━━━━━━━━━━━━━━━━\u001B[0m\u001B[37m\u001B[0m \u001B[1m10s\u001B[0m 6ms/step - accuracy: 0.9981 - loss: 0.0058 - val_accuracy: 0.9979 - val_loss: 0.0064 - learning_rate: 1.0000e-05\n",
      "Epoch 29/50\n",
      "\u001B[1m1635/1635\u001B[0m \u001B[32m━━━━━━━━━━━━━━━━━━━━\u001B[0m\u001B[37m\u001B[0m \u001B[1m11s\u001B[0m 7ms/step - accuracy: 0.9981 - loss: 0.0058 - val_accuracy: 0.9978 - val_loss: 0.0064 - learning_rate: 1.0000e-05\n",
      "Epoch 30/50\n",
      "\u001B[1m1635/1635\u001B[0m \u001B[32m━━━━━━━━━━━━━━━━━━━━\u001B[0m\u001B[37m\u001B[0m \u001B[1m11s\u001B[0m 7ms/step - accuracy: 0.9981 - loss: 0.0058 - val_accuracy: 0.9978 - val_loss: 0.0064 - learning_rate: 1.0000e-05\n",
      "Epoch 31/50\n",
      "\u001B[1m1635/1635\u001B[0m \u001B[32m━━━━━━━━━━━━━━━━━━━━\u001B[0m\u001B[37m\u001B[0m \u001B[1m11s\u001B[0m 7ms/step - accuracy: 0.9981 - loss: 0.0058 - val_accuracy: 0.9978 - val_loss: 0.0064 - learning_rate: 1.0000e-05\n",
      "Epoch 32/50\n",
      "\u001B[1m1631/1635\u001B[0m \u001B[32m━━━━━━━━━━━━━━━━━━━\u001B[0m\u001B[37m━\u001B[0m \u001B[1m0s\u001B[0m 6ms/step - accuracy: 0.9981 - loss: 0.0058\n",
      "Epoch 32: ReduceLROnPlateau reducing learning rate to 1.0000000656873453e-06.\n",
      "\u001B[1m1635/1635\u001B[0m \u001B[32m━━━━━━━━━━━━━━━━━━━━\u001B[0m\u001B[37m\u001B[0m \u001B[1m10s\u001B[0m 6ms/step - accuracy: 0.9981 - loss: 0.0058 - val_accuracy: 0.9978 - val_loss: 0.0064 - learning_rate: 1.0000e-05\n",
      "Epoch 33/50\n",
      "\u001B[1m1635/1635\u001B[0m \u001B[32m━━━━━━━━━━━━━━━━━━━━\u001B[0m\u001B[37m\u001B[0m \u001B[1m12s\u001B[0m 7ms/step - accuracy: 0.9981 - loss: 0.0058 - val_accuracy: 0.9978 - val_loss: 0.0063 - learning_rate: 1.0000e-06\n",
      "Epoch 34/50\n",
      "\u001B[1m1635/1635\u001B[0m \u001B[32m━━━━━━━━━━━━━━━━━━━━\u001B[0m\u001B[37m\u001B[0m \u001B[1m14s\u001B[0m 9ms/step - accuracy: 0.9981 - loss: 0.0058 - val_accuracy: 0.9978 - val_loss: 0.0063 - learning_rate: 1.0000e-06\n",
      "Epoch 35/50\n",
      "\u001B[1m1635/1635\u001B[0m \u001B[32m━━━━━━━━━━━━━━━━━━━━\u001B[0m\u001B[37m\u001B[0m \u001B[1m11s\u001B[0m 6ms/step - accuracy: 0.9981 - loss: 0.0058 - val_accuracy: 0.9978 - val_loss: 0.0063 - learning_rate: 1.0000e-06\n",
      "Epoch 36/50\n",
      "\u001B[1m1635/1635\u001B[0m \u001B[32m━━━━━━━━━━━━━━━━━━━━\u001B[0m\u001B[37m\u001B[0m \u001B[1m17s\u001B[0m 10ms/step - accuracy: 0.9981 - loss: 0.0058 - val_accuracy: 0.9978 - val_loss: 0.0063 - learning_rate: 1.0000e-06\n",
      "Epoch 37/50\n",
      "\u001B[1m1633/1635\u001B[0m \u001B[32m━━━━━━━━━━━━━━━━━━━\u001B[0m\u001B[37m━\u001B[0m \u001B[1m0s\u001B[0m 7ms/step - accuracy: 0.9981 - loss: 0.0057\n",
      "Epoch 37: ReduceLROnPlateau reducing learning rate to 1.0000001111620805e-07.\n",
      "\u001B[1m1635/1635\u001B[0m \u001B[32m━━━━━━━━━━━━━━━━━━━━\u001B[0m\u001B[37m\u001B[0m \u001B[1m12s\u001B[0m 8ms/step - accuracy: 0.9981 - loss: 0.0057 - val_accuracy: 0.9978 - val_loss: 0.0063 - learning_rate: 1.0000e-06\n",
      "Epoch 38/50\n",
      "\u001B[1m1635/1635\u001B[0m \u001B[32m━━━━━━━━━━━━━━━━━━━━\u001B[0m\u001B[37m\u001B[0m \u001B[1m14s\u001B[0m 8ms/step - accuracy: 0.9981 - loss: 0.0057 - val_accuracy: 0.9978 - val_loss: 0.0063 - learning_rate: 1.0000e-07\n",
      "Epoch 39/50\n",
      "\u001B[1m1635/1635\u001B[0m \u001B[32m━━━━━━━━━━━━━━━━━━━━\u001B[0m\u001B[37m\u001B[0m \u001B[1m15s\u001B[0m 9ms/step - accuracy: 0.9981 - loss: 0.0057 - val_accuracy: 0.9978 - val_loss: 0.0063 - learning_rate: 1.0000e-07\n",
      "Epoch 40/50\n",
      "\u001B[1m1635/1635\u001B[0m \u001B[32m━━━━━━━━━━━━━━━━━━━━\u001B[0m\u001B[37m\u001B[0m \u001B[1m11s\u001B[0m 7ms/step - accuracy: 0.9981 - loss: 0.0057 - val_accuracy: 0.9978 - val_loss: 0.0063 - learning_rate: 1.0000e-07\n",
      "Epoch 41/50\n",
      "\u001B[1m1635/1635\u001B[0m \u001B[32m━━━━━━━━━━━━━━━━━━━━\u001B[0m\u001B[37m\u001B[0m \u001B[1m10s\u001B[0m 6ms/step - accuracy: 0.9981 - loss: 0.0057 - val_accuracy: 0.9978 - val_loss: 0.0063 - learning_rate: 1.0000e-07\n",
      "Epoch 42/50\n",
      "\u001B[1m1626/1635\u001B[0m \u001B[32m━━━━━━━━━━━━━━━━━━━\u001B[0m\u001B[37m━\u001B[0m \u001B[1m0s\u001B[0m 5ms/step - accuracy: 0.9981 - loss: 0.0057\n",
      "Epoch 42: ReduceLROnPlateau reducing learning rate to 1e-07.\n",
      "\u001B[1m1635/1635\u001B[0m \u001B[32m━━━━━━━━━━━━━━━━━━━━\u001B[0m\u001B[37m\u001B[0m \u001B[1m9s\u001B[0m 5ms/step - accuracy: 0.9981 - loss: 0.0057 - val_accuracy: 0.9978 - val_loss: 0.0063 - learning_rate: 1.0000e-07\n",
      "Epoch 43/50\n",
      "\u001B[1m1635/1635\u001B[0m \u001B[32m━━━━━━━━━━━━━━━━━━━━\u001B[0m\u001B[37m\u001B[0m \u001B[1m12s\u001B[0m 7ms/step - accuracy: 0.9981 - loss: 0.0057 - val_accuracy: 0.9978 - val_loss: 0.0063 - learning_rate: 1.0000e-07\n",
      "Epoch 44/50\n",
      "\u001B[1m1635/1635\u001B[0m \u001B[32m━━━━━━━━━━━━━━━━━━━━\u001B[0m\u001B[37m\u001B[0m \u001B[1m12s\u001B[0m 7ms/step - accuracy: 0.9981 - loss: 0.0057 - val_accuracy: 0.9978 - val_loss: 0.0063 - learning_rate: 1.0000e-07\n",
      "Epoch 45/50\n",
      "\u001B[1m1635/1635\u001B[0m \u001B[32m━━━━━━━━━━━━━━━━━━━━\u001B[0m\u001B[37m\u001B[0m \u001B[1m13s\u001B[0m 8ms/step - accuracy: 0.9981 - loss: 0.0057 - val_accuracy: 0.9978 - val_loss: 0.0063 - learning_rate: 1.0000e-07\n",
      "Epoch 46/50\n",
      "\u001B[1m1635/1635\u001B[0m \u001B[32m━━━━━━━━━━━━━━━━━━━━\u001B[0m\u001B[37m\u001B[0m \u001B[1m13s\u001B[0m 8ms/step - accuracy: 0.9981 - loss: 0.0057 - val_accuracy: 0.9978 - val_loss: 0.0063 - learning_rate: 1.0000e-07\n",
      "Epoch 47/50\n",
      "\u001B[1m1635/1635\u001B[0m \u001B[32m━━━━━━━━━━━━━━━━━━━━\u001B[0m\u001B[37m\u001B[0m \u001B[1m12s\u001B[0m 7ms/step - accuracy: 0.9981 - loss: 0.0057 - val_accuracy: 0.9978 - val_loss: 0.0063 - learning_rate: 1.0000e-07\n",
      "Epoch 48/50\n",
      "\u001B[1m1635/1635\u001B[0m \u001B[32m━━━━━━━━━━━━━━━━━━━━\u001B[0m\u001B[37m\u001B[0m \u001B[1m11s\u001B[0m 7ms/step - accuracy: 0.9981 - loss: 0.0057 - val_accuracy: 0.9978 - val_loss: 0.0063 - learning_rate: 1.0000e-07\n",
      "Epoch 49/50\n",
      "\u001B[1m1635/1635\u001B[0m \u001B[32m━━━━━━━━━━━━━━━━━━━━\u001B[0m\u001B[37m\u001B[0m \u001B[1m10s\u001B[0m 6ms/step - accuracy: 0.9981 - loss: 0.0057 - val_accuracy: 0.9978 - val_loss: 0.0063 - learning_rate: 1.0000e-07\n",
      "Epoch 50/50\n",
      "\u001B[1m1635/1635\u001B[0m \u001B[32m━━━━━━━━━━━━━━━━━━━━\u001B[0m\u001B[37m\u001B[0m \u001B[1m10s\u001B[0m 6ms/step - accuracy: 0.9981 - loss: 0.0057 - val_accuracy: 0.9978 - val_loss: 0.0063 - learning_rate: 1.0000e-07\n"
     ]
    }
   ],
   "execution_count": 36
  },
  {
   "cell_type": "code",
   "source": [
    "# Modelin performansını test verileri üzerinde değerlendirmek.\n",
    "\n",
    "#X_test_images ve y_test: Test verisi ve etiketler.\n",
    "#model_1.evaluate(): Modelin test kaybı ve doğruluğunu hesaplar.\n",
    "test_loss, test_accuracy = model_1.evaluate(X_test_images, y_test)\n",
    "\n",
    "# Test kümesi üzerinde tahminlerde bulurn\n",
    "y_pred = model_1.predict(X_test_images)\n",
    "\n",
    "# Tahmin edilen olasılıkları sınıf etiketlerine dönüştürür\n",
    "y_pred_labels = np.argmax(y_pred, axis=1) #En yüksek olasılığa sahip sınıf etiketini belirler.\n",
    "\n",
    "# Modelin performans metriklerini hesaplar\n",
    "precision = precision_score(y_test, y_pred_labels, average='weighted', zero_division=1) # Kesinlik, geri çağırma ve F1 skoru hesaplamaları.\n",
    "recall    = recall_score(y_test, y_pred_labels, average='weighted', zero_division=1) # Ağırlıklı ortalama kullanarak hesaplama yapılır.\n",
    "f1        = f1_score(y_test, y_pred_labels, average='weighted', zero_division=1) # Sıfır bölme hatalarını önler.\n",
    "\n",
    "# Modelin performans metriklerini yazdırmak\n",
    "print(f\"Test Kaybı:      {test_loss:.4f}\")\n",
    "print(f\"Test Doğruluk:  {test_accuracy*100:.2f}%\")\n",
    "print(f\"Test Hassasiyet: {precision*100:.2f}%\")\n",
    "print(f\"Test Geri Çağırma:    {recall*100:.2f}%\")\n",
    "print(f\"Test F1 Skoru:  {f1*100:.2f}%\")\n"
   ],
   "metadata": {
    "execution": {
     "iopub.status.busy": "2024-04-14T14:04:59.781245Z",
     "iopub.execute_input": "2024-04-14T14:04:59.781632Z",
     "iopub.status.idle": "2024-04-14T14:05:38.138513Z",
     "shell.execute_reply.started": "2024-04-14T14:04:59.781599Z",
     "shell.execute_reply": "2024-04-14T14:05:38.137288Z"
    },
    "trusted": true,
    "ExecuteTime": {
     "end_time": "2024-06-04T01:29:44.304646Z",
     "start_time": "2024-06-04T01:29:19.892601Z"
    }
   },
   "outputs": [
    {
     "name": "stdout",
     "output_type": "stream",
     "text": [
      "\u001B[1m10462/10462\u001B[0m \u001B[32m━━━━━━━━━━━━━━━━━━━━\u001B[0m\u001B[37m\u001B[0m \u001B[1m10s\u001B[0m 922us/step - accuracy: 0.9980 - loss: 0.0065\n",
      "\u001B[1m10462/10462\u001B[0m \u001B[32m━━━━━━━━━━━━━━━━━━━━\u001B[0m\u001B[37m\u001B[0m \u001B[1m11s\u001B[0m 1ms/step\n",
      "Test Kaybı:      0.0064\n",
      "Test Doğruluk:  99.79%\n",
      "Test Hassasiyet: 99.80%\n",
      "Test Geri Çağırma:    99.79%\n",
      "Test F1 Skoru:  99.78%\n"
     ]
    }
   ],
   "execution_count": 37
  },
  {
   "cell_type": "code",
   "source": [
    "# Eğitim ve doğrulama kayıplarını/doğruluklarını görselleştirmek için geçmiş verileri çıkarmak.\n",
    "train_loss = history_1.history['loss']\n",
    "val_loss   = history_1.history['val_loss']\n",
    "train_acc  = history_1.history['accuracy']\n",
    "val_acc    = history_1.history['val_accuracy']\n",
    "\n",
    "# Eğitim ve doğrulama kaybı eğrilerini çizmek.\n",
    "fig, (ax1, ax2) = plt.subplots(2, 1, figsize=(10, 12))\n",
    "\n",
    "ax1.plot(range(len(train_loss)), train_loss, label='Eğitim Kaybı')\n",
    "ax1.plot(range(len(val_loss)),   val_loss,   label='Doğrulama Kaybı')\n",
    "ax1.set_xlabel('Epoch')\n",
    "ax1.set_ylabel('Kayıp')\n",
    "ax1.set_title('Çok Sınıflı Sınıflandırma için Eğitim ve Doğrulama Kaybı')\n",
    "ax1.legend()\n",
    "ax1.grid(True)\n",
    "\n",
    "# Eğitim ve doğrulama doğruluğu eğrilerini çizmek.\n",
    "ax2.plot(range(len(train_acc)), train_acc, label='Eğitim Doğruluğu')\n",
    "ax2.plot(range(len(val_acc)),   val_acc,   label='Doğrulama Doğruluğu')\n",
    "ax2.set_xlabel('Epoch')\n",
    "ax2.set_ylabel('Doğruluk')\n",
    "ax2.set_title('Çok Sınıflı Sınıflandırma için Eğitim ve Doğrulama Doğruluğu')\n",
    "ax2.legend()\n",
    "ax2.grid(True)\n",
    "\n",
    "# Grafiklerin Düzeni ayarlar\n",
    "plt.tight_layout()\n",
    "\n",
    "# Graqfiklerin Çizimini görüntüler\n",
    "plt.show()"
   ],
   "metadata": {
    "execution": {
     "iopub.status.busy": "2024-04-14T14:05:38.139877Z",
     "iopub.execute_input": "2024-04-14T14:05:38.140179Z",
     "iopub.status.idle": "2024-04-14T14:05:38.826240Z",
     "shell.execute_reply.started": "2024-04-14T14:05:38.140154Z",
     "shell.execute_reply": "2024-04-14T14:05:38.825260Z"
    },
    "trusted": true,
    "ExecuteTime": {
     "end_time": "2024-06-04T01:29:44.663049Z",
     "start_time": "2024-06-04T01:29:44.306159Z"
    }
   },
   "outputs": [
    {
     "data": {
      "text/plain": [
       "<Figure size 1000x1200 with 2 Axes>"
      ],
      "image/png": "[encoded data removed]"
     },
     "metadata": {},
     "output_type": "display_data"
    }
   ],
   "execution_count": 38
  }
 ]
}
